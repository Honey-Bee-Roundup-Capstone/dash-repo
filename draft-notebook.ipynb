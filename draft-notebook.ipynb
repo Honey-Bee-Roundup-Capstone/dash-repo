{
 "cells": [
  {
   "cell_type": "markdown",
   "id": "5947381e",
   "metadata": {},
   "source": [
    "# Honey Bee Roundup"
   ]
  },
  {
   "cell_type": "markdown",
   "id": "77d48e2c",
   "metadata": {},
   "source": [
    "### Technical Goals:\n",
    "\n",
    "Our technical goals are to analyze honeybee colony data from the USDA to determine if there is a statistically significant amount of loss among colonies over time, and to develop a machine learning model that accurately predicts honeybee colony loss based on significant environmental and human-driven features. We can use these predictions to make recommendations to stakeholders to minimize colony loss and improve outcomes.\n",
    "\n",
    "### Business Goals:\n",
    "\n",
    "Honeybees pollinate 15 billion worth of crops in the United States each year, including more than 130 types of fruits, nuts, and vegetables. Honeybees also produce honey, worth about 3.2 million in 2017 according to USDA-National Agricultural Statistics Service (NASS).\n",
    "\n",
    "We want to provide stakeholders with an accurate model for predicting colony loss over time, which factors affect colony loss, and which areas are most conducive to colony production and preservation. We also want to provide a way for stakeholders to test outcomes based on actions they take (or not take) to mitigate colony loss. Our overarching business goal is to influence stakeholders to make responsible and proactive decisions to help honeybees thrive.\n",
    "\n",
    "### Hypothesis\n",
    "\n",
    "Our initial hypothesis is that honeybee colony loss has increased over time and will continue to increase year over year if no measures are taken to mitigate or reverse this outcome. Some initial questions we have are:\n",
    "\n",
    "How much have honeybee colonies diminished over time? Is this loss compounded year over year?\n",
    "\n",
    "What significant features drive honeybee colony loss?\n",
    "\n",
    "What time of year is the biggest loss?\n",
    "\n",
    "What state/area suffers heaviest loss and primary factors attributing to that?\n",
    "\n",
    "Does summer or winter have the largest loss?\n",
    "\n",
    "Does the beekeeper to colony ratio have an effect on colony loss?\n",
    "\n",
    "### Executive Summary\n",
    "\n",
    "We trained and evaluated four linear regression models using five significant features affecting colony loss. The OLS model and the LassoLars model both performed very well, beating the baseline RMSE for colony loss by {} percent. We selected the {} model because {}. The model's RMSE for the test set was {}. We used this model both with randomized data and chronological data, and the model performed similarly for both sets. We recommend that states use this model to predict colony losses for the upcoming year, and to lower their beekeeper to colony ratio for significant improvements. They can use this model to see how their losses will be mitigated if they increase the number of beekeepers and/or modify their beekeeping operations based on the season."
   ]
  },
  {
   "cell_type": "code",
   "execution_count": 1,
   "id": "bbfd93a5",
   "metadata": {},
   "outputs": [],
   "source": [
    "# standard and user-defined functions imports\n",
    "import pandas as pd\n",
    "import numpy as np\n",
    "import wrangle\n",
    "import explore\n",
    "import regression_models as model\n",
    "import os\n",
    "\n",
    "# visualization imports\n",
    "import matplotlib.pyplot as plt\n",
    "import seaborn as sns\n",
    "\n",
    "# stats and modeling imports\n",
    "from scipy import stats\n",
    "from math import sqrt\n",
    "from sklearn.preprocessing import MinMaxScaler, PolynomialFeatures\n",
    "from sklearn.model_selection import train_test_split\n",
    "from sklearn.metrics import mean_squared_error,explained_variance_score, r2_score\n",
    "from sklearn.linear_model import LinearRegression,LassoLars,TweedieRegressor\n",
    "from sklearn.feature_selection import SelectKBest, RFE, f_regression\n",
    "\n",
    "# remove warnings\n",
    "import warnings\n",
    "warnings.filterwarnings(\"ignore\")\n",
    "sns.set_theme()"
   ]
  },
  {
   "cell_type": "markdown",
   "id": "d99ff474",
   "metadata": {},
   "source": [
    "## Acquisition\n",
    "\n",
    "Data was originally found on Data.World, and further traced back to it's source to pull the most up-to-date data on Bees.\n",
    "\n",
    "Of the original 3 Data sets:\n",
    "\n",
    "- After assessement Census Data from the USDA was deemed not to have pertinent information to the current population of bees or health of hives, as well as the fact that it is reported in 5 year gaps, was removed from our initial data set.\n",
    "\n",
    "- Survey Data by State from the USDA was also deemed as having less pertinent information on the trend in population of bees or health of their hives, and was left for further exploration as time permits due to a small amount of data on the environmental area of the colonies.\n",
    "\n",
    "- The Bee Colony Loss Data from BeeInformed.org has the most relevant data regarding current number of colonies, number of bee keepers, and loss of bees and colonies, so was the data set we initially focused on. However, due to this privacy stipulation \"For the protection of privacy, losses are reported as N/A if 10 or fewer beekeepers responded in that state. These beekeepers' losses are included in the national statistics.\" we decided to drop all records where the number of beekeepers were 10 or less, as most of the data was Null, and therefore not contributing towards our goal."
   ]
  },
  {
   "cell_type": "markdown",
   "id": "2186816c",
   "metadata": {},
   "source": [
    "## Preparation\n",
    "\n",
    "- We created separate functions for preparing the data- one for time series analysis and one for linear regression modeling. \n",
    "- All observations with 10 or less beekeepers were dropped because the data for those observations is protected under privacy laws. \n",
    "- All strings were stripped, lowercased, and spaces were replaced with underscores. \n",
    "- We engineered two columns: beekeeper_colony_ratio and colony_net_gain. \n",
    "- We also created dummy variables for the three categories in the season column: winter, summer, and annual.\n",
    "- Multistate and non_continental data was dropped, and we isolated only observations with beekeepers exclusive to their respective states."
   ]
  },
  {
   "cell_type": "code",
   "execution_count": 2,
   "id": "32044746",
   "metadata": {},
   "outputs": [],
   "source": [
    "# acquire time series dataframe using function from wrangle.py and save to a variable\n",
    "ts_df = wrangle.ts_bee_prep()"
   ]
  },
  {
   "cell_type": "code",
   "execution_count": 3,
   "id": "3fe0b697",
   "metadata": {},
   "outputs": [
    {
     "data": {
      "text/html": [
       "<div>\n",
       "<style scoped>\n",
       "    .dataframe tbody tr th:only-of-type {\n",
       "        vertical-align: middle;\n",
       "    }\n",
       "\n",
       "    .dataframe tbody tr th {\n",
       "        vertical-align: top;\n",
       "    }\n",
       "\n",
       "    .dataframe thead th {\n",
       "        text-align: right;\n",
       "    }\n",
       "</style>\n",
       "<table border=\"1\" class=\"dataframe\">\n",
       "  <thead>\n",
       "    <tr style=\"text-align: right;\">\n",
       "      <th></th>\n",
       "      <th>state</th>\n",
       "      <th>year</th>\n",
       "      <th>season</th>\n",
       "      <th>beekeepers</th>\n",
       "      <th>total_loss</th>\n",
       "      <th>average_loss</th>\n",
       "      <th>starting_colonies</th>\n",
       "      <th>colonies_lost</th>\n",
       "      <th>ending_colonies</th>\n",
       "      <th>beekeepers_exclusive_to_state</th>\n",
       "      <th>colonies_exclusive_to_state</th>\n",
       "      <th>annual</th>\n",
       "      <th>summer</th>\n",
       "      <th>winter</th>\n",
       "      <th>colonies_net_gain</th>\n",
       "      <th>beekeeper_colony_ratio</th>\n",
       "    </tr>\n",
       "  </thead>\n",
       "  <tbody>\n",
       "    <tr>\n",
       "      <th>104</th>\n",
       "      <td>alabama</td>\n",
       "      <td>2008-10-01</td>\n",
       "      <td>winter</td>\n",
       "      <td>16</td>\n",
       "      <td>41.916168</td>\n",
       "      <td>29.610216</td>\n",
       "      <td>4848</td>\n",
       "      <td>2240</td>\n",
       "      <td>3104</td>\n",
       "      <td>100.0</td>\n",
       "      <td>100.0</td>\n",
       "      <td>0</td>\n",
       "      <td>0</td>\n",
       "      <td>1</td>\n",
       "      <td>-1744</td>\n",
       "      <td>194.000000</td>\n",
       "    </tr>\n",
       "    <tr>\n",
       "      <th>107</th>\n",
       "      <td>arkansas</td>\n",
       "      <td>2008-10-01</td>\n",
       "      <td>winter</td>\n",
       "      <td>20</td>\n",
       "      <td>17.449588</td>\n",
       "      <td>12.786836</td>\n",
       "      <td>16955</td>\n",
       "      <td>3046</td>\n",
       "      <td>14410</td>\n",
       "      <td>100.0</td>\n",
       "      <td>100.0</td>\n",
       "      <td>0</td>\n",
       "      <td>0</td>\n",
       "      <td>1</td>\n",
       "      <td>-2545</td>\n",
       "      <td>720.500000</td>\n",
       "    </tr>\n",
       "    <tr>\n",
       "      <th>114</th>\n",
       "      <td>georgia</td>\n",
       "      <td>2008-10-01</td>\n",
       "      <td>winter</td>\n",
       "      <td>15</td>\n",
       "      <td>34.481800</td>\n",
       "      <td>29.086689</td>\n",
       "      <td>42876</td>\n",
       "      <td>18605</td>\n",
       "      <td>35351</td>\n",
       "      <td>100.0</td>\n",
       "      <td>100.0</td>\n",
       "      <td>0</td>\n",
       "      <td>0</td>\n",
       "      <td>1</td>\n",
       "      <td>-7525</td>\n",
       "      <td>2356.733333</td>\n",
       "    </tr>\n",
       "    <tr>\n",
       "      <th>118</th>\n",
       "      <td>iowa</td>\n",
       "      <td>2008-10-01</td>\n",
       "      <td>winter</td>\n",
       "      <td>12</td>\n",
       "      <td>40.248963</td>\n",
       "      <td>44.931741</td>\n",
       "      <td>723</td>\n",
       "      <td>291</td>\n",
       "      <td>432</td>\n",
       "      <td>100.0</td>\n",
       "      <td>100.0</td>\n",
       "      <td>0</td>\n",
       "      <td>0</td>\n",
       "      <td>1</td>\n",
       "      <td>-291</td>\n",
       "      <td>36.000000</td>\n",
       "    </tr>\n",
       "    <tr>\n",
       "      <th>123</th>\n",
       "      <td>maryland</td>\n",
       "      <td>2008-10-01</td>\n",
       "      <td>winter</td>\n",
       "      <td>14</td>\n",
       "      <td>7.560976</td>\n",
       "      <td>14.746298</td>\n",
       "      <td>4013</td>\n",
       "      <td>310</td>\n",
       "      <td>3790</td>\n",
       "      <td>100.0</td>\n",
       "      <td>100.0</td>\n",
       "      <td>0</td>\n",
       "      <td>0</td>\n",
       "      <td>1</td>\n",
       "      <td>-223</td>\n",
       "      <td>270.714286</td>\n",
       "    </tr>\n",
       "  </tbody>\n",
       "</table>\n",
       "</div>"
      ],
      "text/plain": [
       "        state       year  season  beekeepers  total_loss  average_loss  \\\n",
       "104   alabama 2008-10-01  winter          16   41.916168     29.610216   \n",
       "107  arkansas 2008-10-01  winter          20   17.449588     12.786836   \n",
       "114   georgia 2008-10-01  winter          15   34.481800     29.086689   \n",
       "118      iowa 2008-10-01  winter          12   40.248963     44.931741   \n",
       "123  maryland 2008-10-01  winter          14    7.560976     14.746298   \n",
       "\n",
       "     starting_colonies  colonies_lost  ending_colonies  \\\n",
       "104               4848           2240             3104   \n",
       "107              16955           3046            14410   \n",
       "114              42876          18605            35351   \n",
       "118                723            291              432   \n",
       "123               4013            310             3790   \n",
       "\n",
       "     beekeepers_exclusive_to_state  colonies_exclusive_to_state  annual  \\\n",
       "104                          100.0                        100.0       0   \n",
       "107                          100.0                        100.0       0   \n",
       "114                          100.0                        100.0       0   \n",
       "118                          100.0                        100.0       0   \n",
       "123                          100.0                        100.0       0   \n",
       "\n",
       "     summer  winter  colonies_net_gain  beekeeper_colony_ratio  \n",
       "104       0       1              -1744              194.000000  \n",
       "107       0       1              -2545              720.500000  \n",
       "114       0       1              -7525             2356.733333  \n",
       "118       0       1               -291               36.000000  \n",
       "123       0       1               -223              270.714286  "
      ]
     },
     "execution_count": 3,
     "metadata": {},
     "output_type": "execute_result"
    }
   ],
   "source": [
    "# confirm acquisition\n",
    "ts_df.head()"
   ]
  },
  {
   "cell_type": "code",
   "execution_count": 4,
   "id": "e545c503",
   "metadata": {},
   "outputs": [],
   "source": [
    "# split data\n",
    "train, validate, test = wrangle.ts_split(ts_df)"
   ]
  },
  {
   "cell_type": "code",
   "execution_count": 5,
   "id": "2c059a03",
   "metadata": {},
   "outputs": [
    {
     "data": {
      "text/plain": [
       "((995, 16), (409, 16), (268, 16))"
      ]
     },
     "execution_count": 5,
     "metadata": {},
     "output_type": "execute_result"
    }
   ],
   "source": [
    "# verify split\n",
    "train.shape, validate.shape, test.shape"
   ]
  },
  {
   "cell_type": "code",
   "execution_count": 6,
   "id": "3069857d",
   "metadata": {},
   "outputs": [],
   "source": [
    "# set year column as datetime index\n",
    "train = train.set_index('year').sort_index()\n",
    "validate = validate.set_index('year').sort_index()\n",
    "test = test.set_index('year').sort_index()"
   ]
  },
  {
   "cell_type": "code",
   "execution_count": 7,
   "id": "7cf9e0ed",
   "metadata": {},
   "outputs": [
    {
     "data": {
      "text/html": [
       "<div>\n",
       "<style scoped>\n",
       "    .dataframe tbody tr th:only-of-type {\n",
       "        vertical-align: middle;\n",
       "    }\n",
       "\n",
       "    .dataframe tbody tr th {\n",
       "        vertical-align: top;\n",
       "    }\n",
       "\n",
       "    .dataframe thead th {\n",
       "        text-align: right;\n",
       "    }\n",
       "</style>\n",
       "<table border=\"1\" class=\"dataframe\">\n",
       "  <thead>\n",
       "    <tr style=\"text-align: right;\">\n",
       "      <th></th>\n",
       "      <th>state</th>\n",
       "      <th>season</th>\n",
       "      <th>beekeepers</th>\n",
       "      <th>total_loss</th>\n",
       "      <th>average_loss</th>\n",
       "      <th>starting_colonies</th>\n",
       "      <th>colonies_lost</th>\n",
       "      <th>ending_colonies</th>\n",
       "      <th>beekeepers_exclusive_to_state</th>\n",
       "      <th>colonies_exclusive_to_state</th>\n",
       "      <th>annual</th>\n",
       "      <th>summer</th>\n",
       "      <th>winter</th>\n",
       "      <th>colonies_net_gain</th>\n",
       "      <th>beekeeper_colony_ratio</th>\n",
       "    </tr>\n",
       "    <tr>\n",
       "      <th>year</th>\n",
       "      <th></th>\n",
       "      <th></th>\n",
       "      <th></th>\n",
       "      <th></th>\n",
       "      <th></th>\n",
       "      <th></th>\n",
       "      <th></th>\n",
       "      <th></th>\n",
       "      <th></th>\n",
       "      <th></th>\n",
       "      <th></th>\n",
       "      <th></th>\n",
       "      <th></th>\n",
       "      <th></th>\n",
       "      <th></th>\n",
       "    </tr>\n",
       "  </thead>\n",
       "  <tbody>\n",
       "    <tr>\n",
       "      <th>2008-10-01</th>\n",
       "      <td>alabama</td>\n",
       "      <td>winter</td>\n",
       "      <td>16</td>\n",
       "      <td>41.916168</td>\n",
       "      <td>29.610216</td>\n",
       "      <td>4848</td>\n",
       "      <td>2240</td>\n",
       "      <td>3104</td>\n",
       "      <td>100.0</td>\n",
       "      <td>100.0</td>\n",
       "      <td>0</td>\n",
       "      <td>0</td>\n",
       "      <td>1</td>\n",
       "      <td>-1744</td>\n",
       "      <td>194.000000</td>\n",
       "    </tr>\n",
       "    <tr>\n",
       "      <th>2008-10-01</th>\n",
       "      <td>wisconsin</td>\n",
       "      <td>winter</td>\n",
       "      <td>14</td>\n",
       "      <td>66.219008</td>\n",
       "      <td>51.694575</td>\n",
       "      <td>3472</td>\n",
       "      <td>2564</td>\n",
       "      <td>1308</td>\n",
       "      <td>100.0</td>\n",
       "      <td>100.0</td>\n",
       "      <td>0</td>\n",
       "      <td>0</td>\n",
       "      <td>1</td>\n",
       "      <td>-2164</td>\n",
       "      <td>93.428571</td>\n",
       "    </tr>\n",
       "    <tr>\n",
       "      <th>2008-10-01</th>\n",
       "      <td>west_virginia</td>\n",
       "      <td>winter</td>\n",
       "      <td>16</td>\n",
       "      <td>35.130581</td>\n",
       "      <td>27.295408</td>\n",
       "      <td>2174</td>\n",
       "      <td>834</td>\n",
       "      <td>1540</td>\n",
       "      <td>100.0</td>\n",
       "      <td>100.0</td>\n",
       "      <td>0</td>\n",
       "      <td>0</td>\n",
       "      <td>1</td>\n",
       "      <td>-634</td>\n",
       "      <td>96.250000</td>\n",
       "    </tr>\n",
       "    <tr>\n",
       "      <th>2008-10-01</th>\n",
       "      <td>utah</td>\n",
       "      <td>winter</td>\n",
       "      <td>28</td>\n",
       "      <td>24.781100</td>\n",
       "      <td>42.183693</td>\n",
       "      <td>17709</td>\n",
       "      <td>4500</td>\n",
       "      <td>13659</td>\n",
       "      <td>100.0</td>\n",
       "      <td>100.0</td>\n",
       "      <td>0</td>\n",
       "      <td>0</td>\n",
       "      <td>1</td>\n",
       "      <td>-4050</td>\n",
       "      <td>487.821429</td>\n",
       "    </tr>\n",
       "    <tr>\n",
       "      <th>2008-10-01</th>\n",
       "      <td>south_dakota</td>\n",
       "      <td>winter</td>\n",
       "      <td>15</td>\n",
       "      <td>48.920213</td>\n",
       "      <td>37.650885</td>\n",
       "      <td>80811</td>\n",
       "      <td>46574</td>\n",
       "      <td>48630</td>\n",
       "      <td>100.0</td>\n",
       "      <td>100.0</td>\n",
       "      <td>0</td>\n",
       "      <td>0</td>\n",
       "      <td>1</td>\n",
       "      <td>-32181</td>\n",
       "      <td>3242.000000</td>\n",
       "    </tr>\n",
       "  </tbody>\n",
       "</table>\n",
       "</div>"
      ],
      "text/plain": [
       "                    state  season  beekeepers  total_loss  average_loss  \\\n",
       "year                                                                      \n",
       "2008-10-01        alabama  winter          16   41.916168     29.610216   \n",
       "2008-10-01      wisconsin  winter          14   66.219008     51.694575   \n",
       "2008-10-01  west_virginia  winter          16   35.130581     27.295408   \n",
       "2008-10-01           utah  winter          28   24.781100     42.183693   \n",
       "2008-10-01   south_dakota  winter          15   48.920213     37.650885   \n",
       "\n",
       "            starting_colonies  colonies_lost  ending_colonies  \\\n",
       "year                                                            \n",
       "2008-10-01               4848           2240             3104   \n",
       "2008-10-01               3472           2564             1308   \n",
       "2008-10-01               2174            834             1540   \n",
       "2008-10-01              17709           4500            13659   \n",
       "2008-10-01              80811          46574            48630   \n",
       "\n",
       "            beekeepers_exclusive_to_state  colonies_exclusive_to_state  \\\n",
       "year                                                                     \n",
       "2008-10-01                          100.0                        100.0   \n",
       "2008-10-01                          100.0                        100.0   \n",
       "2008-10-01                          100.0                        100.0   \n",
       "2008-10-01                          100.0                        100.0   \n",
       "2008-10-01                          100.0                        100.0   \n",
       "\n",
       "            annual  summer  winter  colonies_net_gain  beekeeper_colony_ratio  \n",
       "year                                                                           \n",
       "2008-10-01       0       0       1              -1744              194.000000  \n",
       "2008-10-01       0       0       1              -2164               93.428571  \n",
       "2008-10-01       0       0       1               -634               96.250000  \n",
       "2008-10-01       0       0       1              -4050              487.821429  \n",
       "2008-10-01       0       0       1             -32181             3242.000000  "
      ]
     },
     "execution_count": 7,
     "metadata": {},
     "output_type": "execute_result"
    }
   ],
   "source": [
    "# confirm train data looks good\n",
    "train.head()"
   ]
  },
  {
   "cell_type": "markdown",
   "id": "e61a4f5e",
   "metadata": {},
   "source": [
    "### Exploration\n",
    "\n",
    "We will use our train data for EDA"
   ]
  },
  {
   "cell_type": "markdown",
   "id": "f8321b1d",
   "metadata": {},
   "source": [
    "### Does the beekeeper to hive ratio have an effect on colony loss? If so, does a higher beekeeper to hive ratio have less or more loss?"
   ]
  },
  {
   "cell_type": "code",
   "execution_count": 8,
   "id": "8296cfa9",
   "metadata": {},
   "outputs": [
    {
     "data": {
      "text/plain": [
       "<Figure size 1152x648 with 0 Axes>"
      ]
     },
     "metadata": {},
     "output_type": "display_data"
    },
    {
     "data": {
      "image/png": "[encoded data removed]",
      "text/plain": [
       "<Figure size 360x360 with 1 Axes>"
      ]
     },
     "metadata": {},
     "output_type": "display_data"
    }
   ],
   "source": [
    "# relationship between total_loss and beekeepers with regression line\n",
    "plt.figure(figsize=[16,9])\n",
    "#use lmplot\n",
    "sns.lmplot(x='colonies_lost', y='beekeeper_colony_ratio', data=train, line_kws={'color': 'red'})\n",
    "#set limit in x axis\n",
    "plt.xlim([0,4000])\n",
    "#set limit in y axis\n",
    "plt.ylim([0,100])\n",
    "#set title\n",
    "plt.title('Does the number of colonies lost increase as the beekeeper to colony ratio increases?', y=1.1)\n",
    "plt.show()"
   ]
  },
  {
   "cell_type": "markdown",
   "id": "f6adab34",
   "metadata": {},
   "source": [
    "#### Statistical test for correlation between colonies_lost and beekeeper_colony_ratio\n",
    "\n",
    "H0: There is no relationship between the number of colonies lost annually and the beekeeper to colony ratio.\n",
    "\n",
    "Ha: There is a relationship between the number of colonies lost annually and the beekeeper to colony ratio.\n",
    "Stats test: correlation (continuous & continuous)"
   ]
  },
  {
   "cell_type": "code",
   "execution_count": 9,
   "id": "9b279c92",
   "metadata": {},
   "outputs": [
    {
     "name": "stdout",
     "output_type": "stream",
     "text": [
      "We reject the null hypothesis.\n"
     ]
    }
   ],
   "source": [
    "#run Pearson's Correlation Coefficient test\n",
    "corr, p = stats.pearsonr(train.beekeeper_colony_ratio, train.colonies_lost)\n",
    "#set alpha\n",
    "alpha = .05\n",
    "if p < alpha:\n",
    "    print('We reject the null hypothesis.')\n",
    "\n",
    "else:\n",
    "    print('We fail to reject the null hypothesis.')"
   ]
  },
  {
   "cell_type": "markdown",
   "id": "d700abcd",
   "metadata": {},
   "source": [
    "### How many colonies diminished over time? (State/Overall)"
   ]
  },
  {
   "cell_type": "code",
   "execution_count": 10,
   "id": "14e82921",
   "metadata": {},
   "outputs": [
    {
     "data": {
      "image/png": "[encoded data removed]",
      "text/plain": [
       "<Figure size 1152x648 with 1 Axes>"
      ]
     },
     "metadata": {},
     "output_type": "display_data"
    }
   ],
   "source": [
    "train.groupby('year').colonies_net_gain.sum().plot.bar(figsize=[16,9], title='Net colony loss / gain over time for all states',\n",
    "                                                      ylabel='Colony change per year')\n",
    "plt.show()"
   ]
  },
  {
   "cell_type": "code",
   "execution_count": null,
   "id": "c33585fe",
   "metadata": {},
   "outputs": [],
   "source": []
  },
  {
   "cell_type": "code",
   "execution_count": null,
   "id": "0e9d5c09",
   "metadata": {},
   "outputs": [],
   "source": []
  },
  {
   "cell_type": "markdown",
   "id": "4ce6f63d",
   "metadata": {},
   "source": [
    "### Modeling"
   ]
  },
  {
   "cell_type": "markdown",
   "id": "0644964d",
   "metadata": {},
   "source": [
    "#### Scaling data\n",
    "\n",
    "Scaling is the process by which we normalize the numeric range of the attributes of our data. "
   ]
  },
  {
   "cell_type": "code",
   "execution_count": 11,
   "id": "770ec99e",
   "metadata": {},
   "outputs": [],
   "source": [
    "# numeric columns to be scaled\n",
    "columns = [col for col in train.drop(columns = [\"state\",\"season\",\"colonies_lost\"])]"
   ]
  },
  {
   "cell_type": "code",
   "execution_count": 12,
   "id": "914ce13a",
   "metadata": {},
   "outputs": [],
   "source": [
    "#run scale data function to scale our numeric columns\n",
    "scaled_train, scaled_validate, scaled_test = model.scale_data(train,validate,test,columns)"
   ]
  },
  {
   "cell_type": "markdown",
   "id": "f78e3ce4",
   "metadata": {},
   "source": [
    "#### Feature selection\n",
    "\n",
    "We are going to apply sklearn's SelectKbest and Recursive feature elimination to help us identify our top 5 features to fit into our model"
   ]
  },
  {
   "cell_type": "markdown",
   "id": "5ea15734",
   "metadata": {},
   "source": [
    "##### Selectkbest"
   ]
  },
  {
   "cell_type": "code",
   "execution_count": 13,
   "id": "a59a8d26",
   "metadata": {},
   "outputs": [],
   "source": [
    "#Split the data to fit in the model\n",
    "X= scaled_train[[col for col in scaled_train.columns if col.endswith(\"scaled\")]]\n",
    "y = scaled_train[[\"colonies_lost\"]]"
   ]
  },
  {
   "cell_type": "code",
   "execution_count": 14,
   "id": "c5f2b2aa",
   "metadata": {},
   "outputs": [],
   "source": [
    "def select_kbest(X,y,k):\n",
    "    \"\"\"This function will input two array X, y and number of top features K and outputs the top k number of features \"\"\"\n",
    "    #create the model\n",
    "    kbest = SelectKBest(f_regression, k=k)\n",
    "    #fit the model\n",
    "    kbest.fit(X,y)\n",
    "    #output the top features \n",
    "    features = X.columns[kbest.get_support()]\n",
    "    \n",
    "    return features"
   ]
  },
  {
   "cell_type": "code",
   "execution_count": 15,
   "id": "991de304",
   "metadata": {},
   "outputs": [
    {
     "data": {
      "text/plain": [
       "Index(['starting_colonies_scaled', 'ending_colonies_scaled',\n",
       "       'colonies_net_gain_scaled', 'beekeeper_colony_ratio_scaled'],\n",
       "      dtype='object')"
      ]
     },
     "execution_count": 15,
     "metadata": {},
     "output_type": "execute_result"
    }
   ],
   "source": [
    "#run the function\n",
    "select_kbest(X,y,4)"
   ]
  },
  {
   "cell_type": "markdown",
   "id": "d8f8ab64",
   "metadata": {},
   "source": [
    "    These columns are our top features. Similarly, we can also apply recursive feature selection to help us identify our drivers"
   ]
  },
  {
   "cell_type": "markdown",
   "id": "08f13cfe",
   "metadata": {},
   "source": [
    "##### Recursive feature selection"
   ]
  },
  {
   "cell_type": "code",
   "execution_count": 16,
   "id": "134648f4",
   "metadata": {},
   "outputs": [],
   "source": [
    "def select_rfe(X,y,  n_features_to_select = 4):\n",
    "    \"\"\"This function will input two array X, y and number of top features desired and outputs those features \"\"\"\n",
    "    #create the model\n",
    "    rfe=RFE(LinearRegression(), n_features_to_select = n_features_to_select) \n",
    "    #fit the model\n",
    "    rfe.fit(X,y)\n",
    "    #output top features\n",
    "    features = X.columns[rfe.get_support()]\n",
    "    \n",
    "    return features"
   ]
  },
  {
   "cell_type": "code",
   "execution_count": 17,
   "id": "53fb7aa5",
   "metadata": {},
   "outputs": [
    {
     "data": {
      "text/plain": [
       "Index(['starting_colonies_scaled', 'ending_colonies_scaled',\n",
       "       'colonies_net_gain_scaled', 'beekeeper_colony_ratio_scaled'],\n",
       "      dtype='object')"
      ]
     },
     "execution_count": 17,
     "metadata": {},
     "output_type": "execute_result"
    }
   ],
   "source": [
    "#run the function\n",
    "select_rfe(X,y,  n_features_to_select = 4)"
   ]
  },
  {
   "cell_type": "markdown",
   "id": "8afa9e55",
   "metadata": {},
   "source": [
    "    These featuers are identical to the features we obtain from Selectkbest. Hence we can use them to fit our regression models"
   ]
  },
  {
   "cell_type": "code",
   "execution_count": 18,
   "id": "1610a507",
   "metadata": {},
   "outputs": [],
   "source": [
    "#create list of  features to train the regression model with\n",
    "features = ['starting_colonies_scaled', 'ending_colonies_scaled','colonies_net_gain_scaled', 'beekeeper_colony_ratio_scaled']"
   ]
  },
  {
   "cell_type": "code",
   "execution_count": 19,
   "id": "9e329403",
   "metadata": {},
   "outputs": [],
   "source": [
    "# X_train will be subset of our scaled train data with features only\n",
    "X_train = scaled_train[features]\n",
    "# set target\n",
    "y_train = scaled_train[[\"colonies_lost\"]]\n",
    "# X_validate will be subset of our scaled validate data with features only\n",
    "X_validate = scaled_validate[features]\n",
    "# set target\n",
    "y_validate = scaled_validate[[\"colonies_lost\"]]\n",
    "# X_test will be subset of our scaled test data with features only\n",
    "X_test = scaled_test[features]\n",
    "#set target\n",
    "y_test = scaled_test[[\"colonies_lost\"]]"
   ]
  },
  {
   "cell_type": "markdown",
   "id": "00080e5e",
   "metadata": {},
   "source": [
    "#### Baseline\n",
    "Baseline represents the prediction of the colonies lost with out using features. We will use mean and median of our target from train data and calculate lower baseline RMSE. Our models will then aim to beat this baseline RMSE."
   ]
  },
  {
   "cell_type": "code",
   "execution_count": 20,
   "id": "6d608edb",
   "metadata": {},
   "outputs": [],
   "source": [
    "def get_baseline_RMSE(y_train,y_validate):\n",
    "    '''\n",
    "    this function will calculate baseline mean and baseline median and calculate RMSE from mean and median\n",
    "    '''\n",
    "    #get mean of target from train\n",
    "    y_train[\"baseline_mean\"] = y_train.colonies_lost.mean()\n",
    "    #get median of target from train\n",
    "    y_train[\"baseline_median\"] =y_train.colonies_lost.median()\n",
    "    #get mean of target from validate\n",
    "    y_validate[\"baseline_mean\"] = y_validate.colonies_lost.mean()\n",
    "    #get median from target from validate\n",
    "    y_validate[\"baseline_median\"] =y_validate.colonies_lost.median()\n",
    "    \n",
    "    #calculate RMSE \n",
    "    RMSE_train_mean=mean_squared_error(y_train.colonies_lost,y_train.baseline_mean, squared = False)\n",
    "    RMSE_validate_mean=mean_squared_error(y_validate.colonies_lost,y_validate.baseline_mean, squared = False)\n",
    "\n",
    "    print(\"RMSE using Mean on \\nTrain: \", round(RMSE_train_mean,2), \"\\nValidate: \", round(RMSE_validate_mean,2))\n",
    "    print()\n",
    "\n",
    "    #calculate RMSE\n",
    "    RMSE_train_median= mean_squared_error(y_train.colonies_lost,y_train.baseline_median, squared = False)\n",
    "    RMSE_validate_median= mean_squared_error(y_validate.colonies_lost,y_validate.baseline_median, squared = False)\n",
    "\n",
    "    print(\"RMSE using Median on \\nTrain: \", round(RMSE_train_median,2), \"\\nValidate: \", round(RMSE_validate_median,2))"
   ]
  },
  {
   "cell_type": "code",
   "execution_count": 21,
   "id": "de7df09f",
   "metadata": {},
   "outputs": [
    {
     "name": "stdout",
     "output_type": "stream",
     "text": [
      "RMSE using Mean on \n",
      "Train:  2675.28 \n",
      "Validate:  1881.73\n",
      "\n",
      "RMSE using Median on \n",
      "Train:  2759.24 \n",
      "Validate:  1911.84\n"
     ]
    }
   ],
   "source": [
    "#call in baseline function\n",
    "get_baseline_RMSE(y_train,y_validate)"
   ]
  },
  {
   "cell_type": "markdown",
   "id": "7234b866",
   "metadata": {},
   "source": [
    "    Since our baseline RMSE using mean is smaller than RMSE using median, we will use RMSE mean for our baseline"
   ]
  },
  {
   "cell_type": "markdown",
   "id": "db745c9e",
   "metadata": {},
   "source": [
    "We will be using regression models such as Linear regression(OLS), LassoLars, Tweedie regressor and Polynomial features to train our models and predict colonies lost"
   ]
  },
  {
   "cell_type": "code",
   "execution_count": 33,
   "id": "ad568cde",
   "metadata": {},
   "outputs": [],
   "source": [
    "def RMSE(X_train,y_train, X_validate, y_validate):\n",
    "    '''\n",
    "    this function will calculate baseline mean and baseline median and calculate RMSE from mean and median\n",
    "    '''\n",
    "    #get mean of target from train\n",
    "    y_train[\"baseline_mean\"] = y_train.colonies_lost.mean()\n",
    "    #get median of target from train\n",
    "    y_train[\"baseline_median\"] =y_train.colonies_lost.median()\n",
    "    #get mean of target from validate\n",
    "    y_validate[\"baseline_mean\"] = y_validate.colonies_lost.mean()\n",
    "    #get median from target from validate\n",
    "    y_validate[\"baseline_median\"] =y_validate.colonies_lost.median()\n",
    "    \n",
    "    #calculate RMSE \n",
    "    RMSE_train_mean=mean_squared_error(y_train.colonies_lost,y_train.baseline_mean, squared = False)\n",
    "    RMSE_validate_mean=mean_squared_error(y_validate.colonies_lost,y_validate.baseline_mean, squared = False)\n",
    "\n",
    "    #print(\"RMSE using Mean on \\nTrain: \", round(RMSE_train_mean,2), \"\\nValidate: \", round(RMSE_validate_mean,2))\n",
    "    #print()\n",
    "\n",
    "    #calculate RMSE\n",
    "    RMSE_train_median= mean_squared_error(y_train.colonies_lost,y_train.baseline_median, squared = False)\n",
    "    RMSE_validate_median= mean_squared_error(y_validate.colonies_lost,y_validate.baseline_median, squared = False)\n",
    "\n",
    "    #print(\"RMSE using Median on \\nTrain: \", round(RMSE_train_median,2), \"\\nValidate: \", round(RMSE_validate_median,2))\n",
    "    \n",
    "    #make a dataframe to capture model and RMSE \n",
    "    metric_df = pd.DataFrame(data=[\n",
    "            {\n",
    "                'model': 'Baseline', \n",
    "                'RMSE_train': RMSE_train_mean,\n",
    "                'RMSE_validate': RMSE_validate_mean\n",
    "                }\n",
    "            ])\n",
    "    \n",
    "   \n",
    "    \n",
    "    # create the model object\n",
    "    lm = LinearRegression(normalize = True)\n",
    "    # Fit the model\n",
    "    lm.fit(X_train, y_train.colonies_lost)\n",
    "    # Predict y on train\n",
    "    y_train['colonies_lost_pred_lm'] = lm.predict(X_train)\n",
    "    # predict validate\n",
    "    y_validate['colonies_lost_pred_lm'] = lm.predict(X_validate)\n",
    "    \n",
    "    # evaluate: train rmse\n",
    "    rmse_train_lm= round(mean_squared_error(y_train.colonies_lost, y_train.colonies_lost_pred_lm,squared = False), 2)\n",
    "    # evaluate: validate rmse\n",
    "    rmse_validate_lm= round(mean_squared_error(y_validate.colonies_lost, y_validate.colonies_lost_pred_lm,squared = False),2)\n",
    "\n",
    "    #append model and RMSE from OLS model to metric dataframe\n",
    "    metric_df = metric_df.append({\n",
    "    'model': 'OLS Regressor', \n",
    "    'RMSE_train': rmse_train_lm,\n",
    "    'RMSE_validate': rmse_validate_lm,\n",
    "    }, ignore_index=True)\n",
    "    \n",
    "    \n",
    "    # create the model object\n",
    "    lars = LassoLars(alpha=1, random_state = 825)\n",
    "    # fit the model.\n",
    "    lars.fit(X_train, y_train.colonies_lost)\n",
    "    # predict train\n",
    "    y_train['colonies_lost_pred_lars'] = lars.predict(X_train)\n",
    "    # predict validate\n",
    "    y_validate['colonies_lost_pred_lars'] = lars.predict(X_validate)\n",
    "    # evaluate: train rmse\n",
    "    rmse_train_lars = round(mean_squared_error(y_train.colonies_lost, y_train.colonies_lost_pred_lars, squared = False),2)\n",
    "    # evaluate: validate rmse\n",
    "    rmse_validate_lars= round(mean_squared_error(y_validate.colonies_lost, y_validate.colonies_lost_pred_lars,squared = False),2)\n",
    "\n",
    "    #append model and RMSE from LASSOLARS model to metric dataframe\n",
    "    metric_df = metric_df.append({\n",
    "    'model': 'LASSOLARS(alpha = 1)', \n",
    "    'RMSE_train': rmse_train_lars,\n",
    "    'RMSE_validate': rmse_validate_lars,\n",
    "    }, ignore_index=True)\n",
    "    \n",
    "    \n",
    "    \n",
    "    # create the model object\n",
    "    glm = TweedieRegressor(power=1, alpha=0)\n",
    "    # fit the model to our training data.\n",
    "    glm.fit(X_train, y_train.colonies_lost)\n",
    "    # predict train\n",
    "    y_train['colonies_lost_pred_glm'] = glm.predict(X_train)\n",
    "    # predict validate\n",
    "    y_validate['colonies_lost_pred_glm'] = glm.predict(X_validate)\n",
    "    # evaluate: train rmse\n",
    "    rmse_train_tw = round(mean_squared_error(y_train.colonies_lost, y_train.colonies_lost_pred_glm,squared = False),2)\n",
    "    # evaluate: validate rmse\n",
    "    rmse_validate_tw= round(mean_squared_error(y_validate.colonies_lost, y_validate.colonies_lost_pred_glm, squared = False),2)\n",
    "\n",
    "    #append model and RMSE from GLM model to metric dataframe\n",
    "    metric_df = metric_df.append({\n",
    "    'model': 'Tweedie Regressor(power=1, alpha=0)', \n",
    "    'RMSE_train': rmse_train_tw,\n",
    "    'RMSE_validate': rmse_validate_tw,\n",
    "    }, ignore_index=True)\n",
    "    \n",
    "    \n",
    "    \n",
    "    \n",
    "    #create model object\n",
    "    pf= PolynomialFeatures(degree= 2)\n",
    "    # fit and transform X_train_scaled\n",
    "    X_train_degree2 = pf.fit_transform(X_train)\n",
    "    # transform X_validate_scaled \n",
    "    X_validate_degree2 = pf.transform(X_validate)\n",
    "\n",
    "    # create the model object\n",
    "    lm2 = LinearRegression(normalize=True)\n",
    "    # fit the model to our training data. We must specify the column in y_train,  \n",
    "    lm2.fit(X_train_degree2, y_train.colonies_lost)\n",
    "    # predict train\n",
    "    y_train['colonies_lost_pred_lm2'] = lm2.predict(X_train_degree2)\n",
    "    # predict validate\n",
    "    y_validate['colonies_lost_pred_lm2'] = lm2.predict(X_validate_degree2)\n",
    "\n",
    "    # evaluate: train rmse\n",
    "    rmse_train_py= round(mean_squared_error(y_train.colonies_lost, y_train.colonies_lost_pred_lm2, squared = False),2)\n",
    "    # evaluate: validate rmse\n",
    "    rmse_validate_py= round(mean_squared_error(y_validate.colonies_lost, y_validate.colonies_lost_pred_lm2, squared = False) , 2)\n",
    "\n",
    "    #append model and RMSE from Polynomial Regression model to metric dataframe\n",
    "    metric_df = metric_df.append({\n",
    "    'model': 'Polynomial Regression(degree = 2)', \n",
    "    'RMSE_train': rmse_train_py,\n",
    "    'RMSE_validate': rmse_validate_py,\n",
    "    }, ignore_index=True)\n",
    "    \n",
    "    \n",
    "    print(metric_df)"
   ]
  },
  {
   "cell_type": "code",
   "execution_count": 34,
   "id": "34a979f5",
   "metadata": {},
   "outputs": [
    {
     "name": "stdout",
     "output_type": "stream",
     "text": [
      "                                 model   RMSE_train  RMSE_validate\n",
      "0                             Baseline  2675.278862    1881.731008\n",
      "1                        OLS Regressor  1089.660000     882.270000\n",
      "2                 LASSOLARS(alpha = 1)  1089.180000     897.700000\n",
      "3  Tweedie Regressor(power=1, alpha=0)  1674.010000    1950.430000\n",
      "4    Polynomial Regression(degree = 2)  1018.150000    1281.370000\n"
     ]
    }
   ],
   "source": [
    "# call in function to calculate RMSE on our models\n",
    "RMSE(X_train,y_train, X_validate, y_validate)"
   ]
  },
  {
   "cell_type": "markdown",
   "id": "e863d767",
   "metadata": {},
   "source": [
    "    Our best model OLS regressor with RMSE of 1089.\n",
    "    It beats baseline by 59 %\n",
    "    We will use this model in our unseen data\n",
    "    "
   ]
  },
  {
   "cell_type": "markdown",
   "id": "94229e66",
   "metadata": {},
   "source": [
    "Using OLS regressor into Test data"
   ]
  },
  {
   "cell_type": "code",
   "execution_count": 35,
   "id": "f5470872",
   "metadata": {},
   "outputs": [],
   "source": [
    "# create the model object\n",
    "def test_rmse(X_train,y_train,X_test,y_test):\n",
    "    lm = LinearRegression(normalize = True)\n",
    "    # Fit the model\n",
    "    lm.fit(X_train, y_train.colonies_lost)\n",
    "    # Predict y on train\n",
    "    y_train['colonies_lost_pred_lm2'] = lm.predict(X_train)\n",
    "      # predict y on test\n",
    "    y_test['colonies_lost_pred_lm'] = lm.predict(X_test)\n",
    "    \n",
    "\n",
    "    # evaluate: test rmse\n",
    "    rmse_test= round(mean_squared_error(y_test.colonies_lost, y_test.colonies_lost_pred_lm,squared = False),2)\n",
    "    rmse_baseline = round(mean_squared_error(y_train.colonies_lost,y_train.baseline_mean, squared = False),2)\n",
    "\n",
    "    print(f'The RMSE on test dataset is {rmse_test} while RMSE on baseline is {rmse_baseline}.' )\n",
    "    "
   ]
  },
  {
   "cell_type": "code",
   "execution_count": 36,
   "id": "5ca72c1f",
   "metadata": {},
   "outputs": [
    {
     "name": "stdout",
     "output_type": "stream",
     "text": [
      "The RMSE on test dataset is 1731.07 while RMSE on baseline is 2675.28.\n"
     ]
    }
   ],
   "source": [
    "test_rmse(X_train,y_train,X_test,y_test)"
   ]
  },
  {
   "cell_type": "markdown",
   "id": "9e3f92af",
   "metadata": {},
   "source": [
    "Let us see how our models performed"
   ]
  },
  {
   "cell_type": "code",
   "execution_count": 26,
   "id": "a7d8ea72",
   "metadata": {},
   "outputs": [
    {
     "data": {
      "image/png": "[encoded data removed]",
      "text/plain": [
       "<Figure size 1152x576 with 1 Axes>"
      ]
     },
     "metadata": {},
     "output_type": "display_data"
    }
   ],
   "source": [
    "explore.model_performace(y_train)"
   ]
  },
  {
   "cell_type": "markdown",
   "id": "a4c3931a",
   "metadata": {},
   "source": [
    "### Conclusion:\n",
    "\n",
    "We were able to produce a model that beats the baseline and predict colony loss"
   ]
  },
  {
   "cell_type": "markdown",
   "id": "f6183dee",
   "metadata": {},
   "source": []
  }
 ],
 "metadata": {
  "kernelspec": {
   "display_name": "Python 3 (ipykernel)",
   "language": "python",
   "name": "python3"
  },
  "language_info": {
   "codemirror_mode": {
    "name": "ipython",
    "version": 3
   },
   "file_extension": ".py",
   "mimetype": "text/x-python",
   "name": "python",
   "nbconvert_exporter": "python",
   "pygments_lexer": "ipython3",
   "version": "3.9.12"
  }
 },
 "nbformat": 4,
 "nbformat_minor": 5
}
