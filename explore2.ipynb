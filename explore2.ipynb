{
 "cells": [
  {
   "cell_type": "markdown",
   "id": "86d2b392",
   "metadata": {},
   "source": [
    "# This notebook uses the new wrangle functions and will explore only beekeepers exclusive to state."
   ]
  },
  {
   "cell_type": "code",
   "execution_count": 1,
   "id": "87d10d53",
   "metadata": {},
   "outputs": [],
   "source": [
    "import pandas as pd\n",
    "import numpy as np\n",
    "import wrangle\n",
    "import explore\n",
    "import os\n",
    "\n",
    "import matplotlib.pyplot as plt\n",
    "import seaborn as sns\n",
    "\n",
    "from scipy import stats\n",
    "from sklearn.model_selection import train_test_split\n",
    "import sklearn.preprocessing"
   ]
  },
  {
   "cell_type": "code",
   "execution_count": 2,
   "id": "59c15b61",
   "metadata": {},
   "outputs": [],
   "source": [
    "df = wrangle.bee_merged()"
   ]
  },
  {
   "cell_type": "code",
   "execution_count": 3,
   "id": "92e5c70b",
   "metadata": {},
   "outputs": [
    {
     "data": {
      "text/html": [
       "<div>\n",
       "<style scoped>\n",
       "    .dataframe tbody tr th:only-of-type {\n",
       "        vertical-align: middle;\n",
       "    }\n",
       "\n",
       "    .dataframe tbody tr th {\n",
       "        vertical-align: top;\n",
       "    }\n",
       "\n",
       "    .dataframe thead th {\n",
       "        text-align: right;\n",
       "    }\n",
       "</style>\n",
       "<table border=\"1\" class=\"dataframe\">\n",
       "  <thead>\n",
       "    <tr style=\"text-align: right;\">\n",
       "      <th></th>\n",
       "      <th>state</th>\n",
       "      <th>year</th>\n",
       "      <th>season</th>\n",
       "      <th>beekeepers</th>\n",
       "      <th>total_loss</th>\n",
       "      <th>average_loss</th>\n",
       "      <th>starting_colonies</th>\n",
       "      <th>colonies_lost</th>\n",
       "      <th>ending_colonies</th>\n",
       "      <th>beekeepers_exclusive_to_state</th>\n",
       "      <th>colonies_exclusive_to_state</th>\n",
       "      <th>colonies_net_gain</th>\n",
       "      <th>beekeeper_colony_ratio</th>\n",
       "      <th>ansi</th>\n",
       "      <th>latitude</th>\n",
       "      <th>longitude</th>\n",
       "    </tr>\n",
       "  </thead>\n",
       "  <tbody>\n",
       "    <tr>\n",
       "      <th>0</th>\n",
       "      <td>alabama</td>\n",
       "      <td>2022</td>\n",
       "      <td>annual</td>\n",
       "      <td>33</td>\n",
       "      <td>36.488812</td>\n",
       "      <td>34.260096</td>\n",
       "      <td>316</td>\n",
       "      <td>212</td>\n",
       "      <td>369</td>\n",
       "      <td>100.000000</td>\n",
       "      <td>100.000000</td>\n",
       "      <td>53</td>\n",
       "      <td>11.181818</td>\n",
       "      <td>1</td>\n",
       "      <td>32.806671</td>\n",
       "      <td>-86.791130</td>\n",
       "    </tr>\n",
       "    <tr>\n",
       "      <th>1</th>\n",
       "      <td>arkansas</td>\n",
       "      <td>2022</td>\n",
       "      <td>annual</td>\n",
       "      <td>18</td>\n",
       "      <td>51.254480</td>\n",
       "      <td>53.867865</td>\n",
       "      <td>152</td>\n",
       "      <td>143</td>\n",
       "      <td>136</td>\n",
       "      <td>94.444444</td>\n",
       "      <td>97.368421</td>\n",
       "      <td>-16</td>\n",
       "      <td>7.555556</td>\n",
       "      <td>5</td>\n",
       "      <td>34.969704</td>\n",
       "      <td>-92.373123</td>\n",
       "    </tr>\n",
       "    <tr>\n",
       "      <th>2</th>\n",
       "      <td>arkansas</td>\n",
       "      <td>2022</td>\n",
       "      <td>annual</td>\n",
       "      <td>17</td>\n",
       "      <td>49.411765</td>\n",
       "      <td>52.869897</td>\n",
       "      <td>148</td>\n",
       "      <td>126</td>\n",
       "      <td>129</td>\n",
       "      <td>100.000000</td>\n",
       "      <td>100.000000</td>\n",
       "      <td>-19</td>\n",
       "      <td>7.588235</td>\n",
       "      <td>5</td>\n",
       "      <td>34.969704</td>\n",
       "      <td>-92.373123</td>\n",
       "    </tr>\n",
       "    <tr>\n",
       "      <th>3</th>\n",
       "      <td>california</td>\n",
       "      <td>2022</td>\n",
       "      <td>annual</td>\n",
       "      <td>89</td>\n",
       "      <td>33.269667</td>\n",
       "      <td>42.818791</td>\n",
       "      <td>166009</td>\n",
       "      <td>85526</td>\n",
       "      <td>171543</td>\n",
       "      <td>67.415730</td>\n",
       "      <td>25.320314</td>\n",
       "      <td>5534</td>\n",
       "      <td>1927.449438</td>\n",
       "      <td>6</td>\n",
       "      <td>36.116203</td>\n",
       "      <td>-119.681564</td>\n",
       "    </tr>\n",
       "    <tr>\n",
       "      <th>4</th>\n",
       "      <td>california</td>\n",
       "      <td>2022</td>\n",
       "      <td>annual</td>\n",
       "      <td>29</td>\n",
       "      <td>36.752854</td>\n",
       "      <td>35.811393</td>\n",
       "      <td>123975</td>\n",
       "      <td>73971</td>\n",
       "      <td>127295</td>\n",
       "      <td>0.000000</td>\n",
       "      <td>0.000000</td>\n",
       "      <td>3320</td>\n",
       "      <td>4389.482759</td>\n",
       "      <td>6</td>\n",
       "      <td>36.116203</td>\n",
       "      <td>-119.681564</td>\n",
       "    </tr>\n",
       "    <tr>\n",
       "      <th>...</th>\n",
       "      <td>...</td>\n",
       "      <td>...</td>\n",
       "      <td>...</td>\n",
       "      <td>...</td>\n",
       "      <td>...</td>\n",
       "      <td>...</td>\n",
       "      <td>...</td>\n",
       "      <td>...</td>\n",
       "      <td>...</td>\n",
       "      <td>...</td>\n",
       "      <td>...</td>\n",
       "      <td>...</td>\n",
       "      <td>...</td>\n",
       "      <td>...</td>\n",
       "      <td>...</td>\n",
       "      <td>...</td>\n",
       "    </tr>\n",
       "    <tr>\n",
       "      <th>1043</th>\n",
       "      <td>washington</td>\n",
       "      <td>2011</td>\n",
       "      <td>annual</td>\n",
       "      <td>61</td>\n",
       "      <td>36.026936</td>\n",
       "      <td>38.047901</td>\n",
       "      <td>340</td>\n",
       "      <td>214</td>\n",
       "      <td>380</td>\n",
       "      <td>100.000000</td>\n",
       "      <td>100.000000</td>\n",
       "      <td>40</td>\n",
       "      <td>6.229508</td>\n",
       "      <td>53</td>\n",
       "      <td>47.400902</td>\n",
       "      <td>-121.490494</td>\n",
       "    </tr>\n",
       "    <tr>\n",
       "      <th>1044</th>\n",
       "      <td>west_virginia</td>\n",
       "      <td>2011</td>\n",
       "      <td>annual</td>\n",
       "      <td>25</td>\n",
       "      <td>78.585462</td>\n",
       "      <td>40.723147</td>\n",
       "      <td>193</td>\n",
       "      <td>400</td>\n",
       "      <td>109</td>\n",
       "      <td>92.000000</td>\n",
       "      <td>48.704663</td>\n",
       "      <td>-84</td>\n",
       "      <td>4.360000</td>\n",
       "      <td>54</td>\n",
       "      <td>38.491226</td>\n",
       "      <td>-80.954453</td>\n",
       "    </tr>\n",
       "    <tr>\n",
       "      <th>1045</th>\n",
       "      <td>west_virginia</td>\n",
       "      <td>2011</td>\n",
       "      <td>annual</td>\n",
       "      <td>23</td>\n",
       "      <td>41.250000</td>\n",
       "      <td>36.881733</td>\n",
       "      <td>94</td>\n",
       "      <td>66</td>\n",
       "      <td>94</td>\n",
       "      <td>100.000000</td>\n",
       "      <td>100.000000</td>\n",
       "      <td>0</td>\n",
       "      <td>4.086957</td>\n",
       "      <td>54</td>\n",
       "      <td>38.491226</td>\n",
       "      <td>-80.954453</td>\n",
       "    </tr>\n",
       "    <tr>\n",
       "      <th>1046</th>\n",
       "      <td>wisconsin</td>\n",
       "      <td>2011</td>\n",
       "      <td>annual</td>\n",
       "      <td>50</td>\n",
       "      <td>34.585065</td>\n",
       "      <td>51.882699</td>\n",
       "      <td>3773</td>\n",
       "      <td>2413</td>\n",
       "      <td>4564</td>\n",
       "      <td>92.000000</td>\n",
       "      <td>14.020673</td>\n",
       "      <td>791</td>\n",
       "      <td>91.280000</td>\n",
       "      <td>55</td>\n",
       "      <td>44.268543</td>\n",
       "      <td>-89.616508</td>\n",
       "    </tr>\n",
       "    <tr>\n",
       "      <th>1047</th>\n",
       "      <td>wisconsin</td>\n",
       "      <td>2011</td>\n",
       "      <td>annual</td>\n",
       "      <td>46</td>\n",
       "      <td>41.837838</td>\n",
       "      <td>52.742064</td>\n",
       "      <td>529</td>\n",
       "      <td>387</td>\n",
       "      <td>538</td>\n",
       "      <td>100.000000</td>\n",
       "      <td>100.000000</td>\n",
       "      <td>9</td>\n",
       "      <td>11.695652</td>\n",
       "      <td>55</td>\n",
       "      <td>44.268543</td>\n",
       "      <td>-89.616508</td>\n",
       "    </tr>\n",
       "  </tbody>\n",
       "</table>\n",
       "<p>1048 rows × 16 columns</p>\n",
       "</div>"
      ],
      "text/plain": [
       "              state  year  season  beekeepers  total_loss  average_loss  \\\n",
       "0           alabama  2022  annual          33   36.488812     34.260096   \n",
       "1          arkansas  2022  annual          18   51.254480     53.867865   \n",
       "2          arkansas  2022  annual          17   49.411765     52.869897   \n",
       "3        california  2022  annual          89   33.269667     42.818791   \n",
       "4        california  2022  annual          29   36.752854     35.811393   \n",
       "...             ...   ...     ...         ...         ...           ...   \n",
       "1043     washington  2011  annual          61   36.026936     38.047901   \n",
       "1044  west_virginia  2011  annual          25   78.585462     40.723147   \n",
       "1045  west_virginia  2011  annual          23   41.250000     36.881733   \n",
       "1046      wisconsin  2011  annual          50   34.585065     51.882699   \n",
       "1047      wisconsin  2011  annual          46   41.837838     52.742064   \n",
       "\n",
       "      starting_colonies  colonies_lost  ending_colonies  \\\n",
       "0                   316            212              369   \n",
       "1                   152            143              136   \n",
       "2                   148            126              129   \n",
       "3                166009          85526           171543   \n",
       "4                123975          73971           127295   \n",
       "...                 ...            ...              ...   \n",
       "1043                340            214              380   \n",
       "1044                193            400              109   \n",
       "1045                 94             66               94   \n",
       "1046               3773           2413             4564   \n",
       "1047                529            387              538   \n",
       "\n",
       "      beekeepers_exclusive_to_state  colonies_exclusive_to_state  \\\n",
       "0                        100.000000                   100.000000   \n",
       "1                         94.444444                    97.368421   \n",
       "2                        100.000000                   100.000000   \n",
       "3                         67.415730                    25.320314   \n",
       "4                          0.000000                     0.000000   \n",
       "...                             ...                          ...   \n",
       "1043                     100.000000                   100.000000   \n",
       "1044                      92.000000                    48.704663   \n",
       "1045                     100.000000                   100.000000   \n",
       "1046                      92.000000                    14.020673   \n",
       "1047                     100.000000                   100.000000   \n",
       "\n",
       "      colonies_net_gain  beekeeper_colony_ratio  ansi   latitude   longitude  \n",
       "0                    53               11.181818     1  32.806671  -86.791130  \n",
       "1                   -16                7.555556     5  34.969704  -92.373123  \n",
       "2                   -19                7.588235     5  34.969704  -92.373123  \n",
       "3                  5534             1927.449438     6  36.116203 -119.681564  \n",
       "4                  3320             4389.482759     6  36.116203 -119.681564  \n",
       "...                 ...                     ...   ...        ...         ...  \n",
       "1043                 40                6.229508    53  47.400902 -121.490494  \n",
       "1044                -84                4.360000    54  38.491226  -80.954453  \n",
       "1045                  0                4.086957    54  38.491226  -80.954453  \n",
       "1046                791               91.280000    55  44.268543  -89.616508  \n",
       "1047                  9               11.695652    55  44.268543  -89.616508  \n",
       "\n",
       "[1048 rows x 16 columns]"
      ]
     },
     "execution_count": 3,
     "metadata": {},
     "output_type": "execute_result"
    }
   ],
   "source": [
    "df"
   ]
  },
  {
   "cell_type": "code",
   "execution_count": 4,
   "id": "48cf82b7",
   "metadata": {},
   "outputs": [],
   "source": [
    "df = df[df.beekeepers_exclusive_to_state == 100]"
   ]
  },
  {
   "cell_type": "code",
   "execution_count": 5,
   "id": "bdad6a79",
   "metadata": {},
   "outputs": [
    {
     "data": {
      "text/html": [
       "<div>\n",
       "<style scoped>\n",
       "    .dataframe tbody tr th:only-of-type {\n",
       "        vertical-align: middle;\n",
       "    }\n",
       "\n",
       "    .dataframe tbody tr th {\n",
       "        vertical-align: top;\n",
       "    }\n",
       "\n",
       "    .dataframe thead th {\n",
       "        text-align: right;\n",
       "    }\n",
       "</style>\n",
       "<table border=\"1\" class=\"dataframe\">\n",
       "  <thead>\n",
       "    <tr style=\"text-align: right;\">\n",
       "      <th></th>\n",
       "      <th>state</th>\n",
       "      <th>year</th>\n",
       "      <th>season</th>\n",
       "      <th>beekeepers</th>\n",
       "      <th>total_loss</th>\n",
       "      <th>average_loss</th>\n",
       "      <th>starting_colonies</th>\n",
       "      <th>colonies_lost</th>\n",
       "      <th>ending_colonies</th>\n",
       "      <th>beekeepers_exclusive_to_state</th>\n",
       "      <th>colonies_exclusive_to_state</th>\n",
       "      <th>colonies_net_gain</th>\n",
       "      <th>beekeeper_colony_ratio</th>\n",
       "      <th>ansi</th>\n",
       "      <th>latitude</th>\n",
       "      <th>longitude</th>\n",
       "    </tr>\n",
       "  </thead>\n",
       "  <tbody>\n",
       "    <tr>\n",
       "      <th>0</th>\n",
       "      <td>alabama</td>\n",
       "      <td>2022</td>\n",
       "      <td>annual</td>\n",
       "      <td>33</td>\n",
       "      <td>36.488812</td>\n",
       "      <td>34.260096</td>\n",
       "      <td>316</td>\n",
       "      <td>212</td>\n",
       "      <td>369</td>\n",
       "      <td>100.0</td>\n",
       "      <td>100.0</td>\n",
       "      <td>53</td>\n",
       "      <td>11.181818</td>\n",
       "      <td>1</td>\n",
       "      <td>32.806671</td>\n",
       "      <td>-86.791130</td>\n",
       "    </tr>\n",
       "    <tr>\n",
       "      <th>2</th>\n",
       "      <td>arkansas</td>\n",
       "      <td>2022</td>\n",
       "      <td>annual</td>\n",
       "      <td>17</td>\n",
       "      <td>49.411765</td>\n",
       "      <td>52.869897</td>\n",
       "      <td>148</td>\n",
       "      <td>126</td>\n",
       "      <td>129</td>\n",
       "      <td>100.0</td>\n",
       "      <td>100.0</td>\n",
       "      <td>-19</td>\n",
       "      <td>7.588235</td>\n",
       "      <td>5</td>\n",
       "      <td>34.969704</td>\n",
       "      <td>-92.373123</td>\n",
       "    </tr>\n",
       "    <tr>\n",
       "      <th>5</th>\n",
       "      <td>california</td>\n",
       "      <td>2022</td>\n",
       "      <td>annual</td>\n",
       "      <td>60</td>\n",
       "      <td>20.706772</td>\n",
       "      <td>46.205700</td>\n",
       "      <td>42034</td>\n",
       "      <td>11555</td>\n",
       "      <td>44248</td>\n",
       "      <td>100.0</td>\n",
       "      <td>100.0</td>\n",
       "      <td>2214</td>\n",
       "      <td>737.466667</td>\n",
       "      <td>6</td>\n",
       "      <td>36.116203</td>\n",
       "      <td>-119.681564</td>\n",
       "    </tr>\n",
       "    <tr>\n",
       "      <th>7</th>\n",
       "      <td>colorado</td>\n",
       "      <td>2022</td>\n",
       "      <td>annual</td>\n",
       "      <td>90</td>\n",
       "      <td>53.227771</td>\n",
       "      <td>40.620432</td>\n",
       "      <td>379</td>\n",
       "      <td>437</td>\n",
       "      <td>384</td>\n",
       "      <td>100.0</td>\n",
       "      <td>100.0</td>\n",
       "      <td>5</td>\n",
       "      <td>4.266667</td>\n",
       "      <td>8</td>\n",
       "      <td>39.059811</td>\n",
       "      <td>-105.311104</td>\n",
       "    </tr>\n",
       "    <tr>\n",
       "      <th>8</th>\n",
       "      <td>connecticut</td>\n",
       "      <td>2022</td>\n",
       "      <td>annual</td>\n",
       "      <td>28</td>\n",
       "      <td>33.862434</td>\n",
       "      <td>38.147562</td>\n",
       "      <td>88</td>\n",
       "      <td>64</td>\n",
       "      <td>125</td>\n",
       "      <td>100.0</td>\n",
       "      <td>100.0</td>\n",
       "      <td>37</td>\n",
       "      <td>4.464286</td>\n",
       "      <td>9</td>\n",
       "      <td>41.597782</td>\n",
       "      <td>-72.755371</td>\n",
       "    </tr>\n",
       "    <tr>\n",
       "      <th>...</th>\n",
       "      <td>...</td>\n",
       "      <td>...</td>\n",
       "      <td>...</td>\n",
       "      <td>...</td>\n",
       "      <td>...</td>\n",
       "      <td>...</td>\n",
       "      <td>...</td>\n",
       "      <td>...</td>\n",
       "      <td>...</td>\n",
       "      <td>...</td>\n",
       "      <td>...</td>\n",
       "      <td>...</td>\n",
       "      <td>...</td>\n",
       "      <td>...</td>\n",
       "      <td>...</td>\n",
       "      <td>...</td>\n",
       "    </tr>\n",
       "    <tr>\n",
       "      <th>1039</th>\n",
       "      <td>vermont</td>\n",
       "      <td>2011</td>\n",
       "      <td>annual</td>\n",
       "      <td>31</td>\n",
       "      <td>44.280443</td>\n",
       "      <td>41.199099</td>\n",
       "      <td>149</td>\n",
       "      <td>120</td>\n",
       "      <td>151</td>\n",
       "      <td>100.0</td>\n",
       "      <td>100.0</td>\n",
       "      <td>2</td>\n",
       "      <td>4.870968</td>\n",
       "      <td>50</td>\n",
       "      <td>44.045876</td>\n",
       "      <td>-72.710686</td>\n",
       "    </tr>\n",
       "    <tr>\n",
       "      <th>1041</th>\n",
       "      <td>virginia</td>\n",
       "      <td>2011</td>\n",
       "      <td>annual</td>\n",
       "      <td>167</td>\n",
       "      <td>40.861813</td>\n",
       "      <td>34.156246</td>\n",
       "      <td>760</td>\n",
       "      <td>550</td>\n",
       "      <td>796</td>\n",
       "      <td>100.0</td>\n",
       "      <td>100.0</td>\n",
       "      <td>36</td>\n",
       "      <td>4.766467</td>\n",
       "      <td>51</td>\n",
       "      <td>37.769337</td>\n",
       "      <td>-78.169968</td>\n",
       "    </tr>\n",
       "    <tr>\n",
       "      <th>1043</th>\n",
       "      <td>washington</td>\n",
       "      <td>2011</td>\n",
       "      <td>annual</td>\n",
       "      <td>61</td>\n",
       "      <td>36.026936</td>\n",
       "      <td>38.047901</td>\n",
       "      <td>340</td>\n",
       "      <td>214</td>\n",
       "      <td>380</td>\n",
       "      <td>100.0</td>\n",
       "      <td>100.0</td>\n",
       "      <td>40</td>\n",
       "      <td>6.229508</td>\n",
       "      <td>53</td>\n",
       "      <td>47.400902</td>\n",
       "      <td>-121.490494</td>\n",
       "    </tr>\n",
       "    <tr>\n",
       "      <th>1045</th>\n",
       "      <td>west_virginia</td>\n",
       "      <td>2011</td>\n",
       "      <td>annual</td>\n",
       "      <td>23</td>\n",
       "      <td>41.250000</td>\n",
       "      <td>36.881733</td>\n",
       "      <td>94</td>\n",
       "      <td>66</td>\n",
       "      <td>94</td>\n",
       "      <td>100.0</td>\n",
       "      <td>100.0</td>\n",
       "      <td>0</td>\n",
       "      <td>4.086957</td>\n",
       "      <td>54</td>\n",
       "      <td>38.491226</td>\n",
       "      <td>-80.954453</td>\n",
       "    </tr>\n",
       "    <tr>\n",
       "      <th>1047</th>\n",
       "      <td>wisconsin</td>\n",
       "      <td>2011</td>\n",
       "      <td>annual</td>\n",
       "      <td>46</td>\n",
       "      <td>41.837838</td>\n",
       "      <td>52.742064</td>\n",
       "      <td>529</td>\n",
       "      <td>387</td>\n",
       "      <td>538</td>\n",
       "      <td>100.0</td>\n",
       "      <td>100.0</td>\n",
       "      <td>9</td>\n",
       "      <td>11.695652</td>\n",
       "      <td>55</td>\n",
       "      <td>44.268543</td>\n",
       "      <td>-89.616508</td>\n",
       "    </tr>\n",
       "  </tbody>\n",
       "</table>\n",
       "<p>486 rows × 16 columns</p>\n",
       "</div>"
      ],
      "text/plain": [
       "              state  year  season  beekeepers  total_loss  average_loss  \\\n",
       "0           alabama  2022  annual          33   36.488812     34.260096   \n",
       "2          arkansas  2022  annual          17   49.411765     52.869897   \n",
       "5        california  2022  annual          60   20.706772     46.205700   \n",
       "7          colorado  2022  annual          90   53.227771     40.620432   \n",
       "8       connecticut  2022  annual          28   33.862434     38.147562   \n",
       "...             ...   ...     ...         ...         ...           ...   \n",
       "1039        vermont  2011  annual          31   44.280443     41.199099   \n",
       "1041       virginia  2011  annual         167   40.861813     34.156246   \n",
       "1043     washington  2011  annual          61   36.026936     38.047901   \n",
       "1045  west_virginia  2011  annual          23   41.250000     36.881733   \n",
       "1047      wisconsin  2011  annual          46   41.837838     52.742064   \n",
       "\n",
       "      starting_colonies  colonies_lost  ending_colonies  \\\n",
       "0                   316            212              369   \n",
       "2                   148            126              129   \n",
       "5                 42034          11555            44248   \n",
       "7                   379            437              384   \n",
       "8                    88             64              125   \n",
       "...                 ...            ...              ...   \n",
       "1039                149            120              151   \n",
       "1041                760            550              796   \n",
       "1043                340            214              380   \n",
       "1045                 94             66               94   \n",
       "1047                529            387              538   \n",
       "\n",
       "      beekeepers_exclusive_to_state  colonies_exclusive_to_state  \\\n",
       "0                             100.0                        100.0   \n",
       "2                             100.0                        100.0   \n",
       "5                             100.0                        100.0   \n",
       "7                             100.0                        100.0   \n",
       "8                             100.0                        100.0   \n",
       "...                             ...                          ...   \n",
       "1039                          100.0                        100.0   \n",
       "1041                          100.0                        100.0   \n",
       "1043                          100.0                        100.0   \n",
       "1045                          100.0                        100.0   \n",
       "1047                          100.0                        100.0   \n",
       "\n",
       "      colonies_net_gain  beekeeper_colony_ratio  ansi   latitude   longitude  \n",
       "0                    53               11.181818     1  32.806671  -86.791130  \n",
       "2                   -19                7.588235     5  34.969704  -92.373123  \n",
       "5                  2214              737.466667     6  36.116203 -119.681564  \n",
       "7                     5                4.266667     8  39.059811 -105.311104  \n",
       "8                    37                4.464286     9  41.597782  -72.755371  \n",
       "...                 ...                     ...   ...        ...         ...  \n",
       "1039                  2                4.870968    50  44.045876  -72.710686  \n",
       "1041                 36                4.766467    51  37.769337  -78.169968  \n",
       "1043                 40                6.229508    53  47.400902 -121.490494  \n",
       "1045                  0                4.086957    54  38.491226  -80.954453  \n",
       "1047                  9               11.695652    55  44.268543  -89.616508  \n",
       "\n",
       "[486 rows x 16 columns]"
      ]
     },
     "execution_count": 5,
     "metadata": {},
     "output_type": "execute_result"
    }
   ],
   "source": [
    "df"
   ]
  },
  {
   "cell_type": "code",
   "execution_count": 6,
   "id": "65af77eb",
   "metadata": {},
   "outputs": [],
   "source": [
    "train, validate, test = explore.split_data(df)"
   ]
  },
  {
   "cell_type": "code",
   "execution_count": 7,
   "id": "f66bd5a5",
   "metadata": {},
   "outputs": [
    {
     "data": {
      "text/plain": [
       "((291, 16), (97, 16), (98, 16))"
      ]
     },
     "execution_count": 7,
     "metadata": {},
     "output_type": "execute_result"
    }
   ],
   "source": [
    "train.shape, validate.shape, test.shape"
   ]
  },
  {
   "cell_type": "code",
   "execution_count": 8,
   "id": "46657188",
   "metadata": {},
   "outputs": [
    {
     "data": {
      "image/png": "[encoded data removed]",
      "text/plain": [
       "<Figure size 1152x648 with 16 Axes>"
      ]
     },
     "metadata": {
      "needs_background": "light"
     },
     "output_type": "display_data"
    }
   ],
   "source": [
    "train.hist(figsize=[16,9])\n",
    "plt.show()"
   ]
  },
  {
   "cell_type": "markdown",
   "id": "45ec0241",
   "metadata": {},
   "source": [
    "## Does the beekeeper to hive ratio have an effect on colony loss? If so, does a higher beekeeper to hive ratio have less or more loss?"
   ]
  },
  {
   "cell_type": "code",
   "execution_count": 17,
   "id": "927e34ef",
   "metadata": {},
   "outputs": [
    {
     "data": {
      "text/plain": [
       "<Figure size 1152x648 with 0 Axes>"
      ]
     },
     "metadata": {},
     "output_type": "display_data"
    },
    {
     "data": {
      "image/png": "[encoded data removed]",
      "text/plain": [
       "<Figure size 360x360 with 1 Axes>"
      ]
     },
     "metadata": {
      "needs_background": "light"
     },
     "output_type": "display_data"
    }
   ],
   "source": [
    "# relationship between total_loss and beekeepers with regression line\n",
    "plt.figure(figsize=[16,9])\n",
    "sns.lmplot(x='colonies_lost', y='beekeeper_colony_ratio', data=train, line_kws={'color': 'red'})\n",
    "plt.xlim([0,4000])\n",
    "plt.ylim([0,100])\n",
    "plt.title('Does the number of colonies lost increase as the beekeeper to colony ratio increases?', y=1.1)\n",
    "plt.show()"
   ]
  },
  {
   "cell_type": "markdown",
   "id": "46eb3c6c",
   "metadata": {},
   "source": [
    "## Statistical test for correlation between colonies_lost and beekeeper_colony_ratio\n",
    "\n",
    "- H0: There is no relationship between the number of colonies lost annually and the beekeeper to colony ratio.\n",
    "\n",
    "- Ha: There is a relationship between the number of colonies lost annually and the beekeeper to colony ratio.\n",
    "\n",
    "- Stats test: correlation (continuous & continuous)"
   ]
  },
  {
   "cell_type": "code",
   "execution_count": 34,
   "id": "9e1abf99",
   "metadata": {},
   "outputs": [
    {
     "data": {
      "text/plain": [
       "(0.7650637965806383, 3.5116632381447964e-57)"
      ]
     },
     "execution_count": 34,
     "metadata": {},
     "output_type": "execute_result"
    }
   ],
   "source": [
    "corr, p = stats.pearsonr(train.beekeeper_colony_ratio, train.colonies_lost)\n",
    "corr, p"
   ]
  },
  {
   "cell_type": "markdown",
   "id": "31a1cef1",
   "metadata": {},
   "source": [
    "### We can reject the null hypothesis that there is no relationship between the number of colonies lost annually and the beekeeper to colony ratio."
   ]
  },
  {
   "cell_type": "markdown",
   "id": "c4559fbc",
   "metadata": {},
   "source": [
    "## How many colonies diminished over time? (State/Overall)"
   ]
  },
  {
   "cell_type": "code",
   "execution_count": 41,
   "id": "d2962267",
   "metadata": {},
   "outputs": [
    {
     "data": {
      "text/plain": [
       "<AxesSubplot:title={'center':'Net colony loss / gain over time for all states'}, xlabel='year', ylabel='Colony change per year'>"
      ]
     },
     "execution_count": 41,
     "metadata": {},
     "output_type": "execute_result"
    },
    {
     "data": {
      "image/png": "[encoded data removed]",
      "text/plain": [
       "<Figure size 1152x648 with 1 Axes>"
      ]
     },
     "metadata": {
      "needs_background": "light"
     },
     "output_type": "display_data"
    }
   ],
   "source": [
    "train.groupby('year').colonies_net_gain.sum().plot.bar(figsize=[16,9], title='Net colony loss / gain over time for all states',\n",
    "                                                      ylabel='Colony change per year')"
   ]
  },
  {
   "cell_type": "markdown",
   "id": "40ef94e7",
   "metadata": {},
   "source": [
    "- Most years have a net loss in the overall number of colonies in the US.\n",
    "- 2011, 2012, 2015, and 2020 showed net gains. What was happening during those years that affected colony loss?\n",
    "- 2013 and 2018 saw a significant loss overall. What happened during those years?"
   ]
  },
  {
   "cell_type": "code",
   "execution_count": null,
   "id": "bc4d7527",
   "metadata": {},
   "outputs": [],
   "source": []
  },
  {
   "cell_type": "code",
   "execution_count": null,
   "id": "344566d6",
   "metadata": {},
   "outputs": [],
   "source": []
  },
  {
   "cell_type": "markdown",
   "id": "c4fc7a9e",
   "metadata": {},
   "source": [
    "## Which state suffered the heaviest loss? Which state has the least loss / highest gain?"
   ]
  },
  {
   "cell_type": "code",
   "execution_count": 47,
   "id": "37f033df",
   "metadata": {},
   "outputs": [
    {
     "data": {
      "text/plain": [
       "<AxesSubplot:title={'center':'Cumulative colony loss / gain from 2011-2022 per states'}, ylabel='state'>"
      ]
     },
     "execution_count": 47,
     "metadata": {},
     "output_type": "execute_result"
    },
    {
     "data": {
      "image/png": "[encoded data removed]",
      "text/plain": [
       "<Figure size 1152x1152 with 1 Axes>"
      ]
     },
     "metadata": {
      "needs_background": "light"
     },
     "output_type": "display_data"
    }
   ],
   "source": [
    "train.groupby(['state']).colonies_net_gain.sum().plot.barh(figsize=[16,16], title='Cumulative colony loss / gain from 2011-2022 per states',\n",
    "                                                      ylabel='Net colony gain/loss')"
   ]
  },
  {
   "cell_type": "code",
   "execution_count": 48,
   "id": "f3046a66",
   "metadata": {},
   "outputs": [
    {
     "data": {
      "text/plain": [
       "state\n",
       "alabama                 -237\n",
       "arkansas                -204\n",
       "california              -236\n",
       "colorado                -278\n",
       "connecticut             -407\n",
       "delaware                -221\n",
       "district_of_columbia     -11\n",
       "florida                -4703\n",
       "georgia                 -520\n",
       "idaho                   -276\n",
       "illinois                -640\n",
       "indiana                 -436\n",
       "iowa                    -897\n",
       "kansas                  -494\n",
       "kentucky                 -62\n",
       "louisiana               -696\n",
       "maine                      1\n",
       "maryland                -767\n",
       "massachusetts          -1570\n",
       "michigan               -1713\n",
       "minnesota              -3021\n",
       "mississippi               44\n",
       "missouri                 156\n",
       "montana                 -629\n",
       "nebraska                 728\n",
       "nevada                   -51\n",
       "new_hampshire             28\n",
       "new_jersey               101\n",
       "new_mexico               -10\n",
       "new_york               -1061\n",
       "north_carolina           174\n",
       "ohio                     626\n",
       "oklahoma                 -84\n",
       "oregon                  2018\n",
       "pennsylvania            -869\n",
       "rhode_island              -6\n",
       "south_carolina           234\n",
       "tennessee               -606\n",
       "texas                    663\n",
       "utah                    -402\n",
       "vermont                  219\n",
       "virginia                -148\n",
       "washington              -107\n",
       "west_virginia            198\n",
       "wisconsin              -2913\n",
       "Name: colonies_net_gain, dtype: int64"
      ]
     },
     "execution_count": 48,
     "metadata": {},
     "output_type": "execute_result"
    }
   ],
   "source": [
    "train.groupby(['state']).colonies_net_gain.sum()"
   ]
  },
  {
   "cell_type": "markdown",
   "id": "43eadd8e",
   "metadata": {},
   "source": [
    "- Florida has the highest net loss over time, followed by Minnesota. This may indicate that northern vs. southern locations may not play as much of a role as we initially thought.\n",
    "- Pennsylvania has the highest net gain from 2011-2022. What are they doing right to keep increasing their colonies?"
   ]
  },
  {
   "cell_type": "code",
   "execution_count": 53,
   "id": "f6fe3274",
   "metadata": {},
   "outputs": [
    {
     "data": {
      "text/plain": [
       "<Figure size 1152x648 with 0 Axes>"
      ]
     },
     "metadata": {},
     "output_type": "display_data"
    },
    {
     "data": {
      "image/png": "[encoded data removed]",
      "text/plain": [
       "<Figure size 360x360 with 1 Axes>"
      ]
     },
     "metadata": {
      "needs_background": "light"
     },
     "output_type": "display_data"
    }
   ],
   "source": [
    "# relationship between total_loss and beekeepers with regression line\n",
    "plt.figure(figsize=[16,9])\n",
    "sns.lmplot(x='colonies_net_gain', y='beekeeper_colony_ratio', data=train, line_kws={'color': 'red'})\n",
    "plt.xlim([0,300])\n",
    "plt.ylim([0,20])\n",
    "plt.title('Does the net colonies lost increase as the beekeeper to colony ratio increases?', y=1.1)\n",
    "plt.show()"
   ]
  },
  {
   "cell_type": "markdown",
   "id": "d1b5ee15",
   "metadata": {},
   "source": [
    "Outliers seem to significantly change the regression line, but when we zoom in to where the majority of the data is, perhaps there is a different correlation (or none at all)."
   ]
  },
  {
   "cell_type": "code",
   "execution_count": 56,
   "id": "d940877a",
   "metadata": {},
   "outputs": [],
   "source": [
    "from datetime import timedelta, datetime"
   ]
  },
  {
   "cell_type": "code",
   "execution_count": 136,
   "id": "6eadb565",
   "metadata": {},
   "outputs": [],
   "source": [
    "bee_time = pd.read_csv('bee_colony_loss.csv')"
   ]
  },
  {
   "cell_type": "code",
   "execution_count": 137,
   "id": "d97ae63c",
   "metadata": {},
   "outputs": [],
   "source": [
    "bee_time = bee_time.drop(columns='Unnamed: 0')"
   ]
  },
  {
   "cell_type": "code",
   "execution_count": 138,
   "id": "8548d191",
   "metadata": {},
   "outputs": [],
   "source": [
    "bee_time = bee_time.dropna()"
   ]
  },
  {
   "cell_type": "code",
   "execution_count": 139,
   "id": "564e9bdc",
   "metadata": {},
   "outputs": [],
   "source": [
    "bee_time = bee_time.drop_duplicates()"
   ]
  },
  {
   "cell_type": "code",
   "execution_count": 140,
   "id": "f12a3bd7",
   "metadata": {},
   "outputs": [],
   "source": [
    "bee_time = bee_time[bee_time.beekeepers > 10]"
   ]
  },
  {
   "cell_type": "code",
   "execution_count": 141,
   "id": "0b76daff",
   "metadata": {},
   "outputs": [],
   "source": [
    "bee_time.state = bee_time.state.str.lower().str.replace(' ','')"
   ]
  },
  {
   "cell_type": "code",
   "execution_count": 142,
   "id": "7f46e5cf",
   "metadata": {},
   "outputs": [],
   "source": [
    "bee_time.season = bee_time.season.str.lower()"
   ]
  },
  {
   "cell_type": "code",
   "execution_count": 143,
   "id": "9086c051",
   "metadata": {},
   "outputs": [
    {
     "data": {
      "text/html": [
       "<div>\n",
       "<style scoped>\n",
       "    .dataframe tbody tr th:only-of-type {\n",
       "        vertical-align: middle;\n",
       "    }\n",
       "\n",
       "    .dataframe tbody tr th {\n",
       "        vertical-align: top;\n",
       "    }\n",
       "\n",
       "    .dataframe thead th {\n",
       "        text-align: right;\n",
       "    }\n",
       "</style>\n",
       "<table border=\"1\" class=\"dataframe\">\n",
       "  <thead>\n",
       "    <tr style=\"text-align: right;\">\n",
       "      <th></th>\n",
       "      <th>state</th>\n",
       "      <th>year</th>\n",
       "      <th>season</th>\n",
       "      <th>beekeepers</th>\n",
       "      <th>total_loss</th>\n",
       "      <th>average_loss</th>\n",
       "      <th>starting_colonies</th>\n",
       "      <th>colonies_lost</th>\n",
       "      <th>ending_colonies</th>\n",
       "      <th>beekeepers_exclusive_to_state</th>\n",
       "      <th>colonies_exclusive_to_state</th>\n",
       "    </tr>\n",
       "  </thead>\n",
       "  <tbody>\n",
       "    <tr>\n",
       "      <th>104</th>\n",
       "      <td>alabama</td>\n",
       "      <td>2008</td>\n",
       "      <td>winter</td>\n",
       "      <td>16</td>\n",
       "      <td>41.91616766</td>\n",
       "      <td>29.61021611</td>\n",
       "      <td>4848</td>\n",
       "      <td>2240</td>\n",
       "      <td>3104</td>\n",
       "      <td>100.000000</td>\n",
       "      <td>100.000000</td>\n",
       "    </tr>\n",
       "    <tr>\n",
       "      <th>107</th>\n",
       "      <td>arkansas</td>\n",
       "      <td>2008</td>\n",
       "      <td>winter</td>\n",
       "      <td>20</td>\n",
       "      <td>17.44958753</td>\n",
       "      <td>12.78683599</td>\n",
       "      <td>16955</td>\n",
       "      <td>3046</td>\n",
       "      <td>14410</td>\n",
       "      <td>100.000000</td>\n",
       "      <td>100.000000</td>\n",
       "    </tr>\n",
       "    <tr>\n",
       "      <th>108</th>\n",
       "      <td>california</td>\n",
       "      <td>2008</td>\n",
       "      <td>winter</td>\n",
       "      <td>36</td>\n",
       "      <td>29.25302934</td>\n",
       "      <td>29.34580306</td>\n",
       "      <td>184085</td>\n",
       "      <td>58712</td>\n",
       "      <td>141992</td>\n",
       "      <td>13.888889</td>\n",
       "      <td>9.161529</td>\n",
       "    </tr>\n",
       "    <tr>\n",
       "      <th>113</th>\n",
       "      <td>florida</td>\n",
       "      <td>2008</td>\n",
       "      <td>winter</td>\n",
       "      <td>23</td>\n",
       "      <td>40.02948325</td>\n",
       "      <td>30.02804428</td>\n",
       "      <td>50897</td>\n",
       "      <td>30141</td>\n",
       "      <td>45156</td>\n",
       "      <td>65.217391</td>\n",
       "      <td>33.581547</td>\n",
       "    </tr>\n",
       "    <tr>\n",
       "      <th>114</th>\n",
       "      <td>georgia</td>\n",
       "      <td>2008</td>\n",
       "      <td>winter</td>\n",
       "      <td>15</td>\n",
       "      <td>34.48179999</td>\n",
       "      <td>29.08668859</td>\n",
       "      <td>42876</td>\n",
       "      <td>18605</td>\n",
       "      <td>35351</td>\n",
       "      <td>100.000000</td>\n",
       "      <td>100.000000</td>\n",
       "    </tr>\n",
       "    <tr>\n",
       "      <th>...</th>\n",
       "      <td>...</td>\n",
       "      <td>...</td>\n",
       "      <td>...</td>\n",
       "      <td>...</td>\n",
       "      <td>...</td>\n",
       "      <td>...</td>\n",
       "      <td>...</td>\n",
       "      <td>...</td>\n",
       "      <td>...</td>\n",
       "      <td>...</td>\n",
       "      <td>...</td>\n",
       "    </tr>\n",
       "    <tr>\n",
       "      <th>7012</th>\n",
       "      <td>vermont</td>\n",
       "      <td>2022</td>\n",
       "      <td>winter</td>\n",
       "      <td>25</td>\n",
       "      <td>50.8260447</td>\n",
       "      <td>43.50472975</td>\n",
       "      <td>1019</td>\n",
       "      <td>523</td>\n",
       "      <td>506</td>\n",
       "      <td>100.000000</td>\n",
       "      <td>100.000000</td>\n",
       "    </tr>\n",
       "    <tr>\n",
       "      <th>7013</th>\n",
       "      <td>virginia</td>\n",
       "      <td>2022</td>\n",
       "      <td>winter</td>\n",
       "      <td>284</td>\n",
       "      <td>31.76043557</td>\n",
       "      <td>37.62563342</td>\n",
       "      <td>2463</td>\n",
       "      <td>875</td>\n",
       "      <td>1880</td>\n",
       "      <td>100.000000</td>\n",
       "      <td>100.000000</td>\n",
       "    </tr>\n",
       "    <tr>\n",
       "      <th>7014</th>\n",
       "      <td>washington</td>\n",
       "      <td>2022</td>\n",
       "      <td>winter</td>\n",
       "      <td>80</td>\n",
       "      <td>36.25377644</td>\n",
       "      <td>51.57911561</td>\n",
       "      <td>625</td>\n",
       "      <td>240</td>\n",
       "      <td>422</td>\n",
       "      <td>100.000000</td>\n",
       "      <td>100.000000</td>\n",
       "    </tr>\n",
       "    <tr>\n",
       "      <th>7015</th>\n",
       "      <td>westvirginia</td>\n",
       "      <td>2022</td>\n",
       "      <td>winter</td>\n",
       "      <td>27</td>\n",
       "      <td>54.26195426</td>\n",
       "      <td>53.15801429</td>\n",
       "      <td>427</td>\n",
       "      <td>261</td>\n",
       "      <td>220</td>\n",
       "      <td>100.000000</td>\n",
       "      <td>100.000000</td>\n",
       "    </tr>\n",
       "    <tr>\n",
       "      <th>7016</th>\n",
       "      <td>wisconsin</td>\n",
       "      <td>2022</td>\n",
       "      <td>winter</td>\n",
       "      <td>99</td>\n",
       "      <td>51.82101977</td>\n",
       "      <td>60.78178057</td>\n",
       "      <td>917</td>\n",
       "      <td>498</td>\n",
       "      <td>463</td>\n",
       "      <td>100.000000</td>\n",
       "      <td>100.000000</td>\n",
       "    </tr>\n",
       "  </tbody>\n",
       "</table>\n",
       "<p>3459 rows × 11 columns</p>\n",
       "</div>"
      ],
      "text/plain": [
       "             state  year  season  beekeepers   total_loss average_loss  \\\n",
       "104        alabama  2008  winter          16  41.91616766  29.61021611   \n",
       "107       arkansas  2008  winter          20  17.44958753  12.78683599   \n",
       "108     california  2008  winter          36  29.25302934  29.34580306   \n",
       "113        florida  2008  winter          23  40.02948325  30.02804428   \n",
       "114        georgia  2008  winter          15  34.48179999  29.08668859   \n",
       "...            ...   ...     ...         ...          ...          ...   \n",
       "7012       vermont  2022  winter          25   50.8260447  43.50472975   \n",
       "7013      virginia  2022  winter         284  31.76043557  37.62563342   \n",
       "7014    washington  2022  winter          80  36.25377644  51.57911561   \n",
       "7015  westvirginia  2022  winter          27  54.26195426  53.15801429   \n",
       "7016     wisconsin  2022  winter          99  51.82101977  60.78178057   \n",
       "\n",
       "      starting_colonies colonies_lost ending_colonies  \\\n",
       "104                4848          2240            3104   \n",
       "107               16955          3046           14410   \n",
       "108              184085         58712          141992   \n",
       "113               50897         30141           45156   \n",
       "114               42876         18605           35351   \n",
       "...                 ...           ...             ...   \n",
       "7012               1019           523             506   \n",
       "7013               2463           875            1880   \n",
       "7014                625           240             422   \n",
       "7015                427           261             220   \n",
       "7016                917           498             463   \n",
       "\n",
       "      beekeepers_exclusive_to_state  colonies_exclusive_to_state  \n",
       "104                      100.000000                   100.000000  \n",
       "107                      100.000000                   100.000000  \n",
       "108                       13.888889                     9.161529  \n",
       "113                       65.217391                    33.581547  \n",
       "114                      100.000000                   100.000000  \n",
       "...                             ...                          ...  \n",
       "7012                     100.000000                   100.000000  \n",
       "7013                     100.000000                   100.000000  \n",
       "7014                     100.000000                   100.000000  \n",
       "7015                     100.000000                   100.000000  \n",
       "7016                     100.000000                   100.000000  \n",
       "\n",
       "[3459 rows x 11 columns]"
      ]
     },
     "execution_count": 143,
     "metadata": {},
     "output_type": "execute_result"
    }
   ],
   "source": [
    "bee_time"
   ]
  },
  {
   "cell_type": "code",
   "execution_count": 144,
   "id": "02ee578e",
   "metadata": {},
   "outputs": [
    {
     "name": "stdout",
     "output_type": "stream",
     "text": [
      "<class 'pandas.core.frame.DataFrame'>\n",
      "Int64Index: 3459 entries, 104 to 7016\n",
      "Data columns (total 11 columns):\n",
      " #   Column                         Non-Null Count  Dtype  \n",
      "---  ------                         --------------  -----  \n",
      " 0   state                          3459 non-null   object \n",
      " 1   year                           3459 non-null   int64  \n",
      " 2   season                         3459 non-null   object \n",
      " 3   beekeepers                     3459 non-null   int64  \n",
      " 4   total_loss                     3459 non-null   object \n",
      " 5   average_loss                   3459 non-null   object \n",
      " 6   starting_colonies              3459 non-null   int64  \n",
      " 7   colonies_lost                  3459 non-null   object \n",
      " 8   ending_colonies                3459 non-null   object \n",
      " 9   beekeepers_exclusive_to_state  3459 non-null   float64\n",
      " 10  colonies_exclusive_to_state    3459 non-null   float64\n",
      "dtypes: float64(2), int64(3), object(6)\n",
      "memory usage: 324.3+ KB\n"
     ]
    }
   ],
   "source": [
    "bee_time.info()"
   ]
  },
  {
   "cell_type": "code",
   "execution_count": 145,
   "id": "713d6d79",
   "metadata": {},
   "outputs": [],
   "source": [
    "bee_time.total_loss = bee_time.total_loss.astype(float)"
   ]
  },
  {
   "cell_type": "code",
   "execution_count": 146,
   "id": "15ace0f0",
   "metadata": {},
   "outputs": [],
   "source": [
    "bee_time.average_loss = bee_time.average_loss.astype(float)"
   ]
  },
  {
   "cell_type": "code",
   "execution_count": 147,
   "id": "fc6fd1d2",
   "metadata": {},
   "outputs": [],
   "source": [
    "bee_time.colonies_lost = bee_time.colonies_lost.astype(int)"
   ]
  },
  {
   "cell_type": "code",
   "execution_count": 148,
   "id": "68a7f762",
   "metadata": {},
   "outputs": [],
   "source": [
    "bee_time.ending_colonies = bee_time.ending_colonies.astype(int)"
   ]
  },
  {
   "cell_type": "code",
   "execution_count": 149,
   "id": "bb6fcec2",
   "metadata": {},
   "outputs": [],
   "source": [
    "bee_time = bee_time[bee_time.beekeepers_exclusive_to_state == 100]"
   ]
  },
  {
   "cell_type": "code",
   "execution_count": 150,
   "id": "4de3507a",
   "metadata": {},
   "outputs": [
    {
     "name": "stderr",
     "output_type": "stream",
     "text": [
      "/var/folders/5g/xrhpsnj56_v3scw9s4trbgxc0000gn/T/ipykernel_11942/2949606796.py:1: SettingWithCopyWarning: \n",
      "A value is trying to be set on a copy of a slice from a DataFrame.\n",
      "Try using .loc[row_indexer,col_indexer] = value instead\n",
      "\n",
      "See the caveats in the documentation: https://pandas.pydata.org/pandas-docs/stable/user_guide/indexing.html#returning-a-view-versus-a-copy\n",
      "  bee_time['colonies_net_gain'] = bee_time.ending_colonies - bee_time.starting_colonies\n"
     ]
    }
   ],
   "source": [
    "bee_time['colonies_net_gain'] = bee_time.ending_colonies - bee_time.starting_colonies"
   ]
  },
  {
   "cell_type": "code",
   "execution_count": 151,
   "id": "a4ba5f1a",
   "metadata": {},
   "outputs": [
    {
     "name": "stderr",
     "output_type": "stream",
     "text": [
      "/var/folders/5g/xrhpsnj56_v3scw9s4trbgxc0000gn/T/ipykernel_11942/2665520337.py:1: SettingWithCopyWarning: \n",
      "A value is trying to be set on a copy of a slice from a DataFrame.\n",
      "Try using .loc[row_indexer,col_indexer] = value instead\n",
      "\n",
      "See the caveats in the documentation: https://pandas.pydata.org/pandas-docs/stable/user_guide/indexing.html#returning-a-view-versus-a-copy\n",
      "  bee_time['beekeeper_colony_ratio'] = bee_time.ending_colonies / bee_time.beekeepers\n"
     ]
    }
   ],
   "source": [
    "bee_time['beekeeper_colony_ratio'] = bee_time.ending_colonies / bee_time.beekeepers"
   ]
  },
  {
   "cell_type": "code",
   "execution_count": 152,
   "id": "c702d1fe",
   "metadata": {},
   "outputs": [
    {
     "name": "stdout",
     "output_type": "stream",
     "text": [
      "<class 'pandas.core.frame.DataFrame'>\n",
      "Int64Index: 1580 entries, 104 to 7016\n",
      "Data columns (total 13 columns):\n",
      " #   Column                         Non-Null Count  Dtype  \n",
      "---  ------                         --------------  -----  \n",
      " 0   state                          1580 non-null   object \n",
      " 1   year                           1580 non-null   int64  \n",
      " 2   season                         1580 non-null   object \n",
      " 3   beekeepers                     1580 non-null   int64  \n",
      " 4   total_loss                     1580 non-null   float64\n",
      " 5   average_loss                   1580 non-null   float64\n",
      " 6   starting_colonies              1580 non-null   int64  \n",
      " 7   colonies_lost                  1580 non-null   int64  \n",
      " 8   ending_colonies                1580 non-null   int64  \n",
      " 9   beekeepers_exclusive_to_state  1580 non-null   float64\n",
      " 10  colonies_exclusive_to_state    1580 non-null   float64\n",
      " 11  colonies_net_gain              1580 non-null   int64  \n",
      " 12  beekeeper_colony_ratio         1580 non-null   float64\n",
      "dtypes: float64(5), int64(6), object(2)\n",
      "memory usage: 172.8+ KB\n"
     ]
    }
   ],
   "source": [
    "bee_time.info()"
   ]
  },
  {
   "cell_type": "code",
   "execution_count": 153,
   "id": "a6722fff",
   "metadata": {},
   "outputs": [
    {
     "name": "stderr",
     "output_type": "stream",
     "text": [
      "/var/folders/5g/xrhpsnj56_v3scw9s4trbgxc0000gn/T/ipykernel_11942/3852519015.py:1: SettingWithCopyWarning: \n",
      "A value is trying to be set on a copy of a slice from a DataFrame.\n",
      "Try using .loc[row_indexer,col_indexer] = value instead\n",
      "\n",
      "See the caveats in the documentation: https://pandas.pydata.org/pandas-docs/stable/user_guide/indexing.html#returning-a-view-versus-a-copy\n",
      "  bee_time.year = pd.to_datetime(bee_time.year, format='%Y')\n"
     ]
    }
   ],
   "source": [
    "bee_time.year = pd.to_datetime(bee_time.year, format='%Y')"
   ]
  },
  {
   "cell_type": "code",
   "execution_count": 154,
   "id": "6a7cef6a",
   "metadata": {},
   "outputs": [],
   "source": [
    "bee_time = bee_time.set_index('year')"
   ]
  },
  {
   "cell_type": "code",
   "execution_count": 155,
   "id": "0da76e4b",
   "metadata": {},
   "outputs": [
    {
     "data": {
      "text/html": [
       "<div>\n",
       "<style scoped>\n",
       "    .dataframe tbody tr th:only-of-type {\n",
       "        vertical-align: middle;\n",
       "    }\n",
       "\n",
       "    .dataframe tbody tr th {\n",
       "        vertical-align: top;\n",
       "    }\n",
       "\n",
       "    .dataframe thead th {\n",
       "        text-align: right;\n",
       "    }\n",
       "</style>\n",
       "<table border=\"1\" class=\"dataframe\">\n",
       "  <thead>\n",
       "    <tr style=\"text-align: right;\">\n",
       "      <th></th>\n",
       "      <th>beekeepers</th>\n",
       "      <th>total_loss</th>\n",
       "      <th>average_loss</th>\n",
       "      <th>starting_colonies</th>\n",
       "      <th>colonies_lost</th>\n",
       "      <th>ending_colonies</th>\n",
       "      <th>beekeepers_exclusive_to_state</th>\n",
       "      <th>colonies_exclusive_to_state</th>\n",
       "      <th>colonies_net_gain</th>\n",
       "      <th>beekeeper_colony_ratio</th>\n",
       "    </tr>\n",
       "    <tr>\n",
       "      <th>year</th>\n",
       "      <th></th>\n",
       "      <th></th>\n",
       "      <th></th>\n",
       "      <th></th>\n",
       "      <th></th>\n",
       "      <th></th>\n",
       "      <th></th>\n",
       "      <th></th>\n",
       "      <th></th>\n",
       "      <th></th>\n",
       "    </tr>\n",
       "  </thead>\n",
       "  <tbody>\n",
       "    <tr>\n",
       "      <th>2008-12-31</th>\n",
       "      <td>27.333333</td>\n",
       "      <td>33.957076</td>\n",
       "      <td>30.973979</td>\n",
       "      <td>14869.866667</td>\n",
       "      <td>6523.466667</td>\n",
       "      <td>10946.400000</td>\n",
       "      <td>100.0</td>\n",
       "      <td>100.0</td>\n",
       "      <td>-3923.466667</td>\n",
       "      <td>665.137526</td>\n",
       "    </tr>\n",
       "    <tr>\n",
       "      <th>2009-12-31</th>\n",
       "      <td>38.705882</td>\n",
       "      <td>31.239494</td>\n",
       "      <td>34.227636</td>\n",
       "      <td>7971.764706</td>\n",
       "      <td>2728.941176</td>\n",
       "      <td>6711.411765</td>\n",
       "      <td>100.0</td>\n",
       "      <td>100.0</td>\n",
       "      <td>-1260.352941</td>\n",
       "      <td>377.305220</td>\n",
       "    </tr>\n",
       "    <tr>\n",
       "      <th>2010-12-31</th>\n",
       "      <td>105.052632</td>\n",
       "      <td>41.569393</td>\n",
       "      <td>42.708039</td>\n",
       "      <td>2086.605263</td>\n",
       "      <td>951.736842</td>\n",
       "      <td>1334.394737</td>\n",
       "      <td>100.0</td>\n",
       "      <td>100.0</td>\n",
       "      <td>-752.210526</td>\n",
       "      <td>13.918461</td>\n",
       "    </tr>\n",
       "    <tr>\n",
       "      <th>2011-12-31</th>\n",
       "      <td>83.108333</td>\n",
       "      <td>30.844253</td>\n",
       "      <td>30.313634</td>\n",
       "      <td>1511.133333</td>\n",
       "      <td>652.116667</td>\n",
       "      <td>1308.216667</td>\n",
       "      <td>100.0</td>\n",
       "      <td>100.0</td>\n",
       "      <td>-202.916667</td>\n",
       "      <td>16.769341</td>\n",
       "    </tr>\n",
       "    <tr>\n",
       "      <th>2012-12-31</th>\n",
       "      <td>93.806452</td>\n",
       "      <td>22.941418</td>\n",
       "      <td>22.641596</td>\n",
       "      <td>2504.056452</td>\n",
       "      <td>625.483871</td>\n",
       "      <td>2560.741935</td>\n",
       "      <td>100.0</td>\n",
       "      <td>100.0</td>\n",
       "      <td>56.685484</td>\n",
       "      <td>32.504367</td>\n",
       "    </tr>\n",
       "    <tr>\n",
       "      <th>2013-12-31</th>\n",
       "      <td>109.229008</td>\n",
       "      <td>31.852978</td>\n",
       "      <td>33.734025</td>\n",
       "      <td>3358.877863</td>\n",
       "      <td>1395.442748</td>\n",
       "      <td>3121.435115</td>\n",
       "      <td>100.0</td>\n",
       "      <td>100.0</td>\n",
       "      <td>-237.442748</td>\n",
       "      <td>32.592975</td>\n",
       "    </tr>\n",
       "    <tr>\n",
       "      <th>2014-12-31</th>\n",
       "      <td>141.461538</td>\n",
       "      <td>32.205079</td>\n",
       "      <td>33.958979</td>\n",
       "      <td>2138.853846</td>\n",
       "      <td>848.607692</td>\n",
       "      <td>2030.000000</td>\n",
       "      <td>100.0</td>\n",
       "      <td>100.0</td>\n",
       "      <td>-108.853846</td>\n",
       "      <td>23.716575</td>\n",
       "    </tr>\n",
       "    <tr>\n",
       "      <th>2015-12-31</th>\n",
       "      <td>120.174603</td>\n",
       "      <td>31.958009</td>\n",
       "      <td>34.140125</td>\n",
       "      <td>2591.357143</td>\n",
       "      <td>844.380952</td>\n",
       "      <td>2619.547619</td>\n",
       "      <td>100.0</td>\n",
       "      <td>100.0</td>\n",
       "      <td>28.190476</td>\n",
       "      <td>27.720209</td>\n",
       "    </tr>\n",
       "    <tr>\n",
       "      <th>2016-12-31</th>\n",
       "      <td>114.643411</td>\n",
       "      <td>30.790052</td>\n",
       "      <td>31.146142</td>\n",
       "      <td>1810.372093</td>\n",
       "      <td>771.906977</td>\n",
       "      <td>1681.813953</td>\n",
       "      <td>100.0</td>\n",
       "      <td>100.0</td>\n",
       "      <td>-128.558140</td>\n",
       "      <td>17.385762</td>\n",
       "    </tr>\n",
       "    <tr>\n",
       "      <th>2017-12-31</th>\n",
       "      <td>92.876812</td>\n",
       "      <td>34.454139</td>\n",
       "      <td>35.968537</td>\n",
       "      <td>2041.847826</td>\n",
       "      <td>728.594203</td>\n",
       "      <td>1933.826087</td>\n",
       "      <td>100.0</td>\n",
       "      <td>100.0</td>\n",
       "      <td>-108.021739</td>\n",
       "      <td>20.335254</td>\n",
       "    </tr>\n",
       "    <tr>\n",
       "      <th>2018-12-31</th>\n",
       "      <td>98.824000</td>\n",
       "      <td>39.483451</td>\n",
       "      <td>39.512091</td>\n",
       "      <td>1083.328000</td>\n",
       "      <td>645.072000</td>\n",
       "      <td>922.240000</td>\n",
       "      <td>100.0</td>\n",
       "      <td>100.0</td>\n",
       "      <td>-161.088000</td>\n",
       "      <td>10.710815</td>\n",
       "    </tr>\n",
       "    <tr>\n",
       "      <th>2019-12-31</th>\n",
       "      <td>92.603175</td>\n",
       "      <td>33.789269</td>\n",
       "      <td>36.137498</td>\n",
       "      <td>1475.912698</td>\n",
       "      <td>761.293651</td>\n",
       "      <td>1079.246032</td>\n",
       "      <td>100.0</td>\n",
       "      <td>100.0</td>\n",
       "      <td>-396.666667</td>\n",
       "      <td>15.429321</td>\n",
       "    </tr>\n",
       "    <tr>\n",
       "      <th>2020-12-31</th>\n",
       "      <td>69.270492</td>\n",
       "      <td>31.953373</td>\n",
       "      <td>33.275543</td>\n",
       "      <td>1517.131148</td>\n",
       "      <td>383.524590</td>\n",
       "      <td>1640.049180</td>\n",
       "      <td>100.0</td>\n",
       "      <td>100.0</td>\n",
       "      <td>122.918033</td>\n",
       "      <td>25.031952</td>\n",
       "    </tr>\n",
       "    <tr>\n",
       "      <th>2021-12-31</th>\n",
       "      <td>77.424779</td>\n",
       "      <td>40.501022</td>\n",
       "      <td>40.135351</td>\n",
       "      <td>1577.796460</td>\n",
       "      <td>976.407080</td>\n",
       "      <td>1405.619469</td>\n",
       "      <td>100.0</td>\n",
       "      <td>100.0</td>\n",
       "      <td>-172.176991</td>\n",
       "      <td>17.960137</td>\n",
       "    </tr>\n",
       "    <tr>\n",
       "      <th>2022-12-31</th>\n",
       "      <td>68.642857</td>\n",
       "      <td>39.310908</td>\n",
       "      <td>38.271285</td>\n",
       "      <td>1877.230159</td>\n",
       "      <td>727.388889</td>\n",
       "      <td>1844.388889</td>\n",
       "      <td>100.0</td>\n",
       "      <td>100.0</td>\n",
       "      <td>-32.841270</td>\n",
       "      <td>27.449412</td>\n",
       "    </tr>\n",
       "  </tbody>\n",
       "</table>\n",
       "</div>"
      ],
      "text/plain": [
       "            beekeepers  total_loss  average_loss  starting_colonies  \\\n",
       "year                                                                  \n",
       "2008-12-31   27.333333   33.957076     30.973979       14869.866667   \n",
       "2009-12-31   38.705882   31.239494     34.227636        7971.764706   \n",
       "2010-12-31  105.052632   41.569393     42.708039        2086.605263   \n",
       "2011-12-31   83.108333   30.844253     30.313634        1511.133333   \n",
       "2012-12-31   93.806452   22.941418     22.641596        2504.056452   \n",
       "2013-12-31  109.229008   31.852978     33.734025        3358.877863   \n",
       "2014-12-31  141.461538   32.205079     33.958979        2138.853846   \n",
       "2015-12-31  120.174603   31.958009     34.140125        2591.357143   \n",
       "2016-12-31  114.643411   30.790052     31.146142        1810.372093   \n",
       "2017-12-31   92.876812   34.454139     35.968537        2041.847826   \n",
       "2018-12-31   98.824000   39.483451     39.512091        1083.328000   \n",
       "2019-12-31   92.603175   33.789269     36.137498        1475.912698   \n",
       "2020-12-31   69.270492   31.953373     33.275543        1517.131148   \n",
       "2021-12-31   77.424779   40.501022     40.135351        1577.796460   \n",
       "2022-12-31   68.642857   39.310908     38.271285        1877.230159   \n",
       "\n",
       "            colonies_lost  ending_colonies  beekeepers_exclusive_to_state  \\\n",
       "year                                                                        \n",
       "2008-12-31    6523.466667     10946.400000                          100.0   \n",
       "2009-12-31    2728.941176      6711.411765                          100.0   \n",
       "2010-12-31     951.736842      1334.394737                          100.0   \n",
       "2011-12-31     652.116667      1308.216667                          100.0   \n",
       "2012-12-31     625.483871      2560.741935                          100.0   \n",
       "2013-12-31    1395.442748      3121.435115                          100.0   \n",
       "2014-12-31     848.607692      2030.000000                          100.0   \n",
       "2015-12-31     844.380952      2619.547619                          100.0   \n",
       "2016-12-31     771.906977      1681.813953                          100.0   \n",
       "2017-12-31     728.594203      1933.826087                          100.0   \n",
       "2018-12-31     645.072000       922.240000                          100.0   \n",
       "2019-12-31     761.293651      1079.246032                          100.0   \n",
       "2020-12-31     383.524590      1640.049180                          100.0   \n",
       "2021-12-31     976.407080      1405.619469                          100.0   \n",
       "2022-12-31     727.388889      1844.388889                          100.0   \n",
       "\n",
       "            colonies_exclusive_to_state  colonies_net_gain  \\\n",
       "year                                                         \n",
       "2008-12-31                        100.0       -3923.466667   \n",
       "2009-12-31                        100.0       -1260.352941   \n",
       "2010-12-31                        100.0        -752.210526   \n",
       "2011-12-31                        100.0        -202.916667   \n",
       "2012-12-31                        100.0          56.685484   \n",
       "2013-12-31                        100.0        -237.442748   \n",
       "2014-12-31                        100.0        -108.853846   \n",
       "2015-12-31                        100.0          28.190476   \n",
       "2016-12-31                        100.0        -128.558140   \n",
       "2017-12-31                        100.0        -108.021739   \n",
       "2018-12-31                        100.0        -161.088000   \n",
       "2019-12-31                        100.0        -396.666667   \n",
       "2020-12-31                        100.0         122.918033   \n",
       "2021-12-31                        100.0        -172.176991   \n",
       "2022-12-31                        100.0         -32.841270   \n",
       "\n",
       "            beekeeper_colony_ratio  \n",
       "year                                \n",
       "2008-12-31              665.137526  \n",
       "2009-12-31              377.305220  \n",
       "2010-12-31               13.918461  \n",
       "2011-12-31               16.769341  \n",
       "2012-12-31               32.504367  \n",
       "2013-12-31               32.592975  \n",
       "2014-12-31               23.716575  \n",
       "2015-12-31               27.720209  \n",
       "2016-12-31               17.385762  \n",
       "2017-12-31               20.335254  \n",
       "2018-12-31               10.710815  \n",
       "2019-12-31               15.429321  \n",
       "2020-12-31               25.031952  \n",
       "2021-12-31               17.960137  \n",
       "2022-12-31               27.449412  "
      ]
     },
     "execution_count": 155,
     "metadata": {},
     "output_type": "execute_result"
    }
   ],
   "source": [
    "bee_time.resample('Y').mean()"
   ]
  },
  {
   "cell_type": "code",
   "execution_count": 159,
   "id": "ac1d7137",
   "metadata": {},
   "outputs": [
    {
     "data": {
      "text/plain": [
       "<AxesSubplot:xlabel='year'>"
      ]
     },
     "execution_count": 159,
     "metadata": {},
     "output_type": "execute_result"
    },
    {
     "data": {
      "image/png": "[encoded data removed]",
      "text/plain": [
       "<Figure size 432x288 with 1 Axes>"
      ]
     },
     "metadata": {
      "needs_background": "light"
     },
     "output_type": "display_data"
    }
   ],
   "source": [
    "bee_time.resample('Y').colonies_lost.sum().plot()"
   ]
  },
  {
   "cell_type": "code",
   "execution_count": 160,
   "id": "2416ac25",
   "metadata": {},
   "outputs": [
    {
     "data": {
      "text/plain": [
       "<AxesSubplot:xlabel='year'>"
      ]
     },
     "execution_count": 160,
     "metadata": {},
     "output_type": "execute_result"
    },
    {
     "data": {
      "image/png": "[encoded data removed]",
      "text/plain": [
       "<Figure size 432x288 with 1 Axes>"
      ]
     },
     "metadata": {
      "needs_background": "light"
     },
     "output_type": "display_data"
    }
   ],
   "source": [
    "bee_time.resample('Y').beekeeper_colony_ratio.sum().plot()"
   ]
  },
  {
   "cell_type": "code",
   "execution_count": 180,
   "id": "ca9b334b",
   "metadata": {},
   "outputs": [
    {
     "data": {
      "text/plain": [
       "<AxesSubplot:xlabel='year'>"
      ]
     },
     "execution_count": 180,
     "metadata": {},
     "output_type": "execute_result"
    },
    {
     "data": {
      "image/png": "[encoded data removed]",
      "text/plain": [
       "<Figure size 432x288 with 1 Axes>"
      ]
     },
     "metadata": {
      "needs_background": "light"
     },
     "output_type": "display_data"
    }
   ],
   "source": [
    "bee_time.resample('Y').average_loss.sum().plot()"
   ]
  },
  {
   "cell_type": "code",
   "execution_count": null,
   "id": "ff0fd6ec",
   "metadata": {},
   "outputs": [],
   "source": []
  }
 ],
 "metadata": {
  "kernelspec": {
   "display_name": "Python 3 (ipykernel)",
   "language": "python",
   "name": "python3"
  },
  "language_info": {
   "codemirror_mode": {
    "name": "ipython",
    "version": 3
   },
   "file_extension": ".py",
   "mimetype": "text/x-python",
   "name": "python",
   "nbconvert_exporter": "python",
   "pygments_lexer": "ipython3",
   "version": "3.9.12"
  }
 },
 "nbformat": 4,
 "nbformat_minor": 5
}
